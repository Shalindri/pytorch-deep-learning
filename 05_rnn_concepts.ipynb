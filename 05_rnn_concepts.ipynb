{
  "cells": [
    {
      "cell_type": "code",
      "execution_count": null,
      "metadata": {
        "id": "ZWAyABqAZWQw"
      },
      "outputs": [],
      "source": [
        "# Sumani\n",
        "# https://www.linkedin.com/in/sumanaruban/\n",
        "# https://github.com/Sumanaruban# Sumani\n",
        "# 1-9-2024"
      ]
    },
    {
      "cell_type": "markdown",
      "metadata": {
        "id": "54XuMYMWZWQx"
      },
      "source": [
        "# Sequential Models in PyTorch: RNN, LSTM, and GRU\n",
        "\n",
        "This tutorial will cover the basics of sequential models in PyTorch, specifically focusing on Recurrent Neural Networks (RNNs), Long Short-Term Memory Networks (LSTMs), and Gated Recurrent Units (GRUs). We'll start with a brief overview of each model, followed by simple examples using tensors to illustrate their operations."
      ]
    },
    {
      "cell_type": "markdown",
      "metadata": {
        "id": "fZZ-yqcnZWQy"
      },
      "source": [
        "## 1. Introduction to Sequential Models\n",
        "\n",
        "Sequential models are designed to process sequences of data, such as time series or natural language. Unlike feedforward neural networks, sequential models retain information from previous inputs in the sequence, making them suitable for tasks where the order of inputs matters.\n",
        "\n",
        "### 1.1 Recurrent Neural Networks (RNN)\n",
        "\n",
        "RNNs are a type of neural network designed to handle sequential data by maintaining a hidden state that captures information from previous steps in the sequence.\n",
        "\n",
        "### 1.2 Long Short-Term Memory Networks (LSTM)\n",
        "\n",
        "LSTMs are a special type of RNN designed to address the vanishing gradient problem. They use gates to control the flow of information, making them capable of learning long-term dependencies.\n",
        "\n",
        "### 1.3 Gated Recurrent Units (GRU)\n",
        "\n",
        "GRUs are similar to LSTMs but are simpler and faster to train. They combine the forget and input gates into a single update gate, reducing the number of parameters.\n"
      ]
    },
    {
      "cell_type": "markdown",
      "metadata": {
        "id": "S1eGZGhDZWQz"
      },
      "source": [
        "## 2. PyTorch Implementation of RNN, LSTM, and GRU\n",
        "\n",
        "We'll implement each of these models using PyTorch and simple tensors to demonstrate how they work."
      ]
    },
    {
      "cell_type": "markdown",
      "metadata": {
        "id": "Qt96lVxVZWQz"
      },
      "source": [
        "### 2.1 Recurrent Neural Networks (RNN)\n",
        "\n",
        "In this example, we define a simple RNN with one input feature and two hidden units. The input sequence consists of three time steps. The RNN processes each time step and updates the hidden state accordingly. The final output and hidden state are printed."
      ]
    },
    {
      "cell_type": "code",
      "execution_count": 1,
      "metadata": {
        "id": "El7-uAvEZWQz",
        "outputId": "f62ccbbc-aa4b-4837-e2f0-8e19018bd2d2",
        "colab": {
          "base_uri": "https://localhost:8080/"
        }
      },
      "outputs": [
        {
          "output_type": "stream",
          "name": "stdout",
          "text": [
            "RNN Output: tensor([[[-0.7648, -0.0051],\n",
            "         [-0.8265,  0.1510],\n",
            "         [-0.8547,  0.1817]]], grad_fn=<TransposeBackward1>)\n",
            "RNN Hidden State: tensor([[[-0.8547,  0.1817]]], grad_fn=<StackBackward0>)\n"
          ]
        }
      ],
      "source": [
        "import torch\n",
        "import torch.nn as nn\n",
        "\n",
        "# Define the input tensor (batch_size, sequence_length, input_size)\n",
        "input_seq = torch.tensor([[[0.1], [0.2], [0.3]]], dtype=torch.float32)\n",
        "\n",
        "# Define an RNN layer\n",
        "rnn = nn.RNN(input_size=1, hidden_size=2, batch_first=True)\n",
        "\n",
        "# Initialize the hidden state\n",
        "hidden_state = torch.zeros(1, 1, 2)\n",
        "\n",
        "# Forward pass through the RNN\n",
        "output, hidden_state = rnn(input_seq, hidden_state)\n",
        "\n",
        "# Print the output and hidden state\n",
        "print(\"RNN Output:\", output)\n",
        "print(\"RNN Hidden State:\", hidden_state)"
      ]
    },
    {
      "cell_type": "code",
      "execution_count": 2,
      "metadata": {
        "id": "QaoFcT_PZWQz",
        "outputId": "0a269730-4986-4efb-cbcb-6c4b97bea662",
        "colab": {
          "base_uri": "https://localhost:8080/"
        }
      },
      "outputs": [
        {
          "output_type": "stream",
          "name": "stdout",
          "text": [
            "RNN Output: tensor([[[-0.8454,  0.1614],\n",
            "         [-0.8499,  0.1722],\n",
            "         [-0.8581,  0.1867]]], grad_fn=<TransposeBackward1>)\n",
            "RNN Hidden State: tensor([[[-0.8581,  0.1867]]], grad_fn=<StackBackward0>)\n"
          ]
        }
      ],
      "source": [
        "# Let's pass the same input again\n",
        "output, hidden_state = rnn(input_seq, hidden_state)\n",
        "\n",
        "# Print the output and hidden state\n",
        "print(\"RNN Output:\", output)\n",
        "print(\"RNN Hidden State:\", hidden_state)"
      ]
    },
    {
      "cell_type": "markdown",
      "metadata": {
        "id": "iXGFhVmpZWQz"
      },
      "source": [
        "### Change Hidden State Size"
      ]
    },
    {
      "cell_type": "code",
      "execution_count": 3,
      "metadata": {
        "id": "T-l9oMQJZWQz",
        "outputId": "b2894235-d210-4f86-8433-94b4cc1f0a03",
        "colab": {
          "base_uri": "https://localhost:8080/"
        }
      },
      "outputs": [
        {
          "output_type": "stream",
          "name": "stdout",
          "text": [
            "RNN with hidden_size=4 Output: tensor([[[-0.1240, -0.1224, -0.4693,  0.5299],\n",
            "         [-0.3676, -0.0856, -0.2503,  0.6491],\n",
            "         [-0.3318,  0.1474, -0.1984,  0.6977]]], grad_fn=<TransposeBackward1>)\n",
            "RNN with hidden_size=4 Hidden State: tensor([[[-0.3318,  0.1474, -0.1984,  0.6977]]], grad_fn=<StackBackward0>)\n"
          ]
        }
      ],
      "source": [
        "# Define the input tensor (batch_size, sequence_length, input_size)\n",
        "input_seq = torch.tensor([[[0.1], [0.2], [0.3]]], dtype=torch.float32)\n",
        "\n",
        "# Define an RNN layer with hidden_size=4\n",
        "rnn_hidden_4 = nn.RNN(input_size=1, hidden_size=4, batch_first=True)\n",
        "\n",
        "# Initialize the hidden state (num_layers, batch_size, hidden_size)\n",
        "hidden_state_4 = torch.zeros(1, 1, 4)\n",
        "\n",
        "# Forward pass through the RNN\n",
        "output_4, hidden_state_4 = rnn_hidden_4(input_seq, hidden_state_4)\n",
        "\n",
        "# Print the output and hidden state\n",
        "print(\"RNN with hidden_size=4 Output:\", output_4)\n",
        "print(\"RNN with hidden_size=4 Hidden State:\", hidden_state_4)"
      ]
    },
    {
      "cell_type": "markdown",
      "metadata": {
        "id": "inKF0X4cZWQz"
      },
      "source": [
        "### Multi Layer RNN"
      ]
    },
    {
      "cell_type": "code",
      "execution_count": 4,
      "metadata": {
        "id": "d4HyW4HMZWQ0",
        "outputId": "761b7cf7-1706-4154-b054-6ed4e3d0eae6",
        "colab": {
          "base_uri": "https://localhost:8080/"
        }
      },
      "outputs": [
        {
          "output_type": "stream",
          "name": "stdout",
          "text": [
            "Multi Layer RNN Output: tensor([[[0.5857, 0.7736],\n",
            "         [0.5092, 0.2235],\n",
            "         [0.4680, 0.5402]]], grad_fn=<TransposeBackward1>)\n",
            "Multi Layer RNN Hidden State: tensor([[[-0.6025, -0.0181]],\n",
            "\n",
            "        [[ 0.1877, -0.3924]],\n",
            "\n",
            "        [[ 0.4680,  0.5402]]], grad_fn=<StackBackward0>)\n"
          ]
        }
      ],
      "source": [
        "# Define the input tensor (batch_size, sequence_length, input_size)\n",
        "input_seq = torch.tensor([[[0.1], [0.2], [0.3]]], dtype=torch.float32)\n",
        "\n",
        "# Define an RNN layer with 3 stacked layers and hidden_size=2\n",
        "rnn_stacked = nn.RNN(input_size=1, hidden_size=2, num_layers=3, batch_first=True)\n",
        "\n",
        "# Initialize the hidden state (num_layers, batch_size, hidden_size)\n",
        "hidden_state_stacked = torch.zeros(3, 1, 2)  # 3 layers, batch_size=1, hidden_size=2\n",
        "\n",
        "# Forward pass through the Multi Layer RNN\n",
        "output_stacked, hidden_state_stacked = rnn_stacked(input_seq, hidden_state_stacked)\n",
        "\n",
        "# Print the output and hidden state\n",
        "print(\"Multi Layer RNN Output:\", output_stacked)\n",
        "print(\"Multi Layer RNN Hidden State:\", hidden_state_stacked)"
      ]
    },
    {
      "cell_type": "markdown",
      "metadata": {
        "id": "MO-87PXOZWQ0"
      },
      "source": [
        "### 2.2 Long Short-Term Memory Networks (LSTM)\n",
        "\n",
        "The LSTM example is similar to the RNN example, but with an additional cell state that helps maintain long-term dependencies. The output, hidden state, and cell state are printed after processing the input sequence."
      ]
    },
    {
      "cell_type": "code",
      "execution_count": 5,
      "metadata": {
        "id": "4EsgVcsYZWQ0",
        "outputId": "e9aeecf9-c15b-4ca6-f8d9-ba2346af8fc8",
        "colab": {
          "base_uri": "https://localhost:8080/"
        }
      },
      "outputs": [
        {
          "output_type": "stream",
          "name": "stdout",
          "text": [
            "LSTM Output: tensor([[[-0.1971,  0.0529],\n",
            "         [-0.3005,  0.0989],\n",
            "         [-0.3565,  0.1298]]], grad_fn=<TransposeBackward0>)\n",
            "LSTM Hidden State: tensor([[[-0.3565,  0.1298]]], grad_fn=<StackBackward0>)\n",
            "LSTM Cell State: tensor([[[-0.5722,  0.3109]]], grad_fn=<StackBackward0>)\n"
          ]
        }
      ],
      "source": [
        "# Define an LSTM layer\n",
        "lstm = nn.LSTM(input_size=1, hidden_size=2, batch_first=True)\n",
        "\n",
        "# Initialize the hidden state and cell state\n",
        "hidden_state = torch.zeros(1, 1, 2)\n",
        "cell_state = torch.zeros(1, 1, 2)\n",
        "\n",
        "# Forward pass through the LSTM\n",
        "output, (hidden_state, cell_state) = lstm(input_seq, (hidden_state, cell_state))\n",
        "\n",
        "# Print the output, hidden state, and cell state\n",
        "print(\"LSTM Output:\", output)\n",
        "print(\"LSTM Hidden State:\", hidden_state)\n",
        "print(\"LSTM Cell State:\", cell_state)"
      ]
    },
    {
      "cell_type": "code",
      "execution_count": 6,
      "metadata": {
        "id": "UUR3T-hUZWQ0",
        "outputId": "f7cd74c1-8991-4bf7-b768-d845559bd3a0",
        "colab": {
          "base_uri": "https://localhost:8080/"
        }
      },
      "outputs": [
        {
          "output_type": "stream",
          "name": "stdout",
          "text": [
            "LSTM Output: tensor([[[-0.3675,  0.1714],\n",
            "         [-0.3846,  0.1859],\n",
            "         [-0.3981,  0.1888]]], grad_fn=<TransposeBackward0>)\n",
            "LSTM Hidden State: tensor([[[-0.3981,  0.1888]]], grad_fn=<StackBackward0>)\n",
            "LSTM Cell State: tensor([[[-0.6296,  0.4410]]], grad_fn=<StackBackward0>)\n"
          ]
        }
      ],
      "source": [
        "# Forward pass through the LSTM\n",
        "output, (hidden_state, cell_state) = lstm(input_seq, (hidden_state, cell_state))\n",
        "\n",
        "# Print the output, hidden state, and cell state\n",
        "print(\"LSTM Output:\", output)\n",
        "print(\"LSTM Hidden State:\", hidden_state)\n",
        "print(\"LSTM Cell State:\", cell_state)"
      ]
    },
    {
      "cell_type": "markdown",
      "metadata": {
        "id": "azcCcDM5ZWQ0"
      },
      "source": [
        "### 2.3 Gated Recurrent Units (GRU)\n",
        "\n",
        "In the GRU example, we define a GRU layer with one input feature and two hidden units. The GRU is simpler than the LSTM, with fewer parameters. The output and hidden state are printed after processing the input sequence."
      ]
    },
    {
      "cell_type": "code",
      "execution_count": 7,
      "metadata": {
        "id": "MvS-nj3OZWQ0",
        "outputId": "a7542c37-d8bd-4384-aea6-bc105d1dfda5",
        "colab": {
          "base_uri": "https://localhost:8080/"
        }
      },
      "outputs": [
        {
          "output_type": "stream",
          "name": "stdout",
          "text": [
            "GRU Output: tensor([[[ 0.2566, -0.0614],\n",
            "         [ 0.4277, -0.1204],\n",
            "         [ 0.5382, -0.1696]]], grad_fn=<TransposeBackward1>)\n",
            "GRU Hidden State: tensor([[[ 0.5382, -0.1696]]], grad_fn=<StackBackward0>)\n"
          ]
        }
      ],
      "source": [
        "# Define a GRU layer\n",
        "gru = nn.GRU(input_size=1, hidden_size=2, batch_first=True)\n",
        "\n",
        "# Initialize the hidden state\n",
        "hidden_state = torch.zeros(1, 1, 2)\n",
        "\n",
        "# Forward pass through the GRU\n",
        "output, hidden_state = gru(input_seq, hidden_state)\n",
        "\n",
        "# Print the output and hidden state\n",
        "print(\"GRU Output:\", output)\n",
        "print(\"GRU Hidden State:\", hidden_state)"
      ]
    },
    {
      "cell_type": "code",
      "execution_count": 8,
      "metadata": {
        "id": "XSGbPCEqZWQ0",
        "outputId": "7a44f142-466b-4806-86ea-bc9d11a31dca",
        "colab": {
          "base_uri": "https://localhost:8080/"
        }
      },
      "outputs": [
        {
          "output_type": "stream",
          "name": "stdout",
          "text": [
            "GRU Output: tensor([[[ 0.5916, -0.2482],\n",
            "         [ 0.6326, -0.3021],\n",
            "         [ 0.6645, -0.3359]]], grad_fn=<TransposeBackward1>)\n",
            "GRU Hidden State: tensor([[[ 0.6645, -0.3359]]], grad_fn=<StackBackward0>)\n"
          ]
        }
      ],
      "source": [
        "# Forward pass through the GRU\n",
        "output, hidden_state = gru(input_seq, hidden_state)\n",
        "\n",
        "# Print the output and hidden state\n",
        "print(\"GRU Output:\", output)\n",
        "print(\"GRU Hidden State:\", hidden_state)"
      ]
    },
    {
      "cell_type": "code",
      "execution_count": null,
      "metadata": {
        "id": "0CM1NsLZZWQ0"
      },
      "outputs": [],
      "source": []
    }
  ],
  "metadata": {
    "kernelspec": {
      "display_name": "pytorch_env",
      "language": "python",
      "name": "python3"
    },
    "language_info": {
      "codemirror_mode": {
        "name": "ipython",
        "version": 3
      },
      "file_extension": ".py",
      "mimetype": "text/x-python",
      "name": "python",
      "nbconvert_exporter": "python",
      "pygments_lexer": "ipython3",
      "version": "3.10.14"
    },
    "colab": {
      "provenance": []
    }
  },
  "nbformat": 4,
  "nbformat_minor": 0
}