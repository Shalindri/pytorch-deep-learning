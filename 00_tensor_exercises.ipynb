{
  "cells": [
    {
      "cell_type": "code",
      "execution_count": null,
      "metadata": {
        "id": "C_36UVVzrBol"
      },
      "outputs": [],
      "source": [
        "# Sumani\n",
        "# 22-7-2024"
      ]
    },
    {
      "cell_type": "markdown",
      "metadata": {
        "id": "4AhWkrlqrBom"
      },
      "source": [
        "# Tensor Exercises"
      ]
    },
    {
      "cell_type": "markdown",
      "metadata": {
        "id": "DcPb9sVarBom"
      },
      "source": [
        "# 1. Tensor Creation"
      ]
    },
    {
      "cell_type": "code",
      "source": [
        "import torch"
      ],
      "metadata": {
        "id": "BQRAnohsyRdc"
      },
      "execution_count": 1,
      "outputs": []
    },
    {
      "cell_type": "code",
      "execution_count": 4,
      "metadata": {
        "id": "iRnqztZErBom"
      },
      "outputs": [],
      "source": [
        "# Create a tensor of shape (2, 4) filled with ones."
      ]
    },
    {
      "cell_type": "code",
      "source": [
        "one_t = torch.ones((2, 4))\n",
        "print(one_t)"
      ],
      "metadata": {
        "id": "QTz5g3SvtPHZ",
        "outputId": "bd407b2e-5802-4b03-e22b-562803cc5043",
        "colab": {
          "base_uri": "https://localhost:8080/"
        }
      },
      "execution_count": 6,
      "outputs": [
        {
          "output_type": "stream",
          "name": "stdout",
          "text": [
            "tensor([[1., 1., 1., 1.],\n",
            "        [1., 1., 1., 1.]])\n"
          ]
        }
      ]
    },
    {
      "cell_type": "code",
      "execution_count": null,
      "metadata": {
        "id": "epyHY8EPrBom"
      },
      "outputs": [],
      "source": [
        "# Create a tensor of shape (5, 3) filled with random values."
      ]
    },
    {
      "cell_type": "code",
      "source": [
        "random_t = torch.rand((5, 3))\n",
        "print(random_t)"
      ],
      "metadata": {
        "id": "182hfE1ky7l-",
        "outputId": "8af2ab02-1d11-4a57-f04c-aa61ffbd9b92",
        "colab": {
          "base_uri": "https://localhost:8080/"
        }
      },
      "execution_count": 10,
      "outputs": [
        {
          "output_type": "stream",
          "name": "stdout",
          "text": [
            "tensor([[0.4634, 0.9978, 0.9005],\n",
            "        [0.0970, 0.3756, 0.1402],\n",
            "        [0.8521, 0.2165, 0.3525],\n",
            "        [0.4548, 0.5381, 0.2697],\n",
            "        [0.4772, 0.4799, 0.3825]])\n"
          ]
        }
      ]
    },
    {
      "cell_type": "code",
      "execution_count": null,
      "metadata": {
        "id": "kc8Da75KrBon"
      },
      "outputs": [],
      "source": [
        "# Create a tensor from a list [5, 10, 15, 20]."
      ]
    },
    {
      "cell_type": "code",
      "source": [
        "list_t = torch.tensor([5,10,15,20])\n",
        "print(list_t)"
      ],
      "metadata": {
        "id": "xvnm8x713FGm",
        "outputId": "2839b812-6246-45c7-8a39-bcaf6767704f",
        "colab": {
          "base_uri": "https://localhost:8080/"
        }
      },
      "execution_count": 12,
      "outputs": [
        {
          "output_type": "stream",
          "name": "stdout",
          "text": [
            "tensor([ 5, 10, 15, 20])\n"
          ]
        }
      ]
    },
    {
      "cell_type": "code",
      "execution_count": null,
      "metadata": {
        "id": "0Xdt5uGprBon"
      },
      "outputs": [],
      "source": [
        "# Create a tensor to represent an image that has width of 8, height of 6, and 3 channels."
      ]
    },
    {
      "cell_type": "code",
      "source": [
        "# rows = height = 6\n",
        "# coulms = width = 8\n",
        "# Channels = RGB\n",
        "\n",
        "image_t = torch.rand(3,6,8)\n",
        "print(image_t)"
      ],
      "metadata": {
        "id": "k-KhuYTn3ggX",
        "outputId": "ec8646fe-aa47-4f4e-b339-4c3ef0b2e2e1",
        "colab": {
          "base_uri": "https://localhost:8080/"
        }
      },
      "execution_count": 17,
      "outputs": [
        {
          "output_type": "stream",
          "name": "stdout",
          "text": [
            "tensor([[[5.4488e-01, 5.8493e-01, 6.2084e-01, 6.7044e-01, 7.3666e-02,\n",
            "          5.2384e-01, 1.3389e-01, 7.7757e-01],\n",
            "         [9.2188e-01, 7.7385e-01, 9.2564e-01, 1.5287e-01, 8.7565e-01,\n",
            "          6.1252e-01, 9.3934e-01, 7.4349e-02],\n",
            "         [4.2523e-01, 3.8157e-01, 7.4506e-01, 1.1826e-01, 2.3307e-01,\n",
            "          4.6049e-01, 4.0529e-01, 2.7416e-01],\n",
            "         [4.8106e-01, 6.0133e-01, 1.2200e-01, 4.3767e-02, 1.5502e-01,\n",
            "          1.2956e-01, 4.3354e-01, 5.9224e-01],\n",
            "         [6.0220e-01, 2.4928e-02, 9.7615e-01, 6.0335e-01, 3.1997e-01,\n",
            "          6.4643e-01, 8.0699e-01, 8.8137e-01],\n",
            "         [7.1784e-01, 1.6565e-01, 1.3044e-01, 9.8919e-01, 3.9209e-02,\n",
            "          5.4218e-01, 6.7130e-01, 1.9324e-01]],\n",
            "\n",
            "        [[2.9037e-01, 3.8646e-01, 9.7543e-01, 6.5223e-01, 3.8586e-01,\n",
            "          4.9153e-01, 2.0172e-01, 1.4991e-01],\n",
            "         [7.1383e-02, 5.5062e-01, 8.0799e-01, 2.8153e-01, 7.3645e-01,\n",
            "          4.0065e-01, 3.4036e-01, 1.7993e-01],\n",
            "         [4.5781e-02, 2.1953e-01, 6.7736e-02, 4.5039e-01, 7.0366e-01,\n",
            "          5.2630e-01, 2.2527e-01, 1.2639e-01],\n",
            "         [8.1705e-01, 3.9944e-01, 3.3608e-01, 8.8394e-01, 7.4146e-01,\n",
            "          7.4368e-01, 2.3945e-01, 6.9386e-02],\n",
            "         [4.1307e-02, 6.3196e-01, 7.9159e-01, 8.4321e-01, 1.2800e-02,\n",
            "          4.9262e-01, 2.8054e-02, 5.8579e-04],\n",
            "         [1.4316e-01, 9.9354e-01, 7.1232e-01, 9.2042e-01, 2.5048e-01,\n",
            "          8.1198e-01, 7.4730e-01, 5.0264e-01]],\n",
            "\n",
            "        [[4.5189e-01, 1.4806e-01, 4.2763e-02, 7.9570e-02, 8.7550e-01,\n",
            "          9.8709e-01, 7.3189e-02, 1.5517e-01],\n",
            "         [4.2975e-01, 3.5563e-01, 5.9419e-01, 2.9350e-01, 8.9626e-01,\n",
            "          1.9138e-01, 7.6746e-01, 9.8202e-01],\n",
            "         [2.2299e-01, 1.6420e-01, 7.3730e-02, 1.0552e-01, 8.6369e-01,\n",
            "          7.9561e-01, 1.9764e-01, 3.4157e-01],\n",
            "         [5.3986e-01, 4.8368e-01, 4.1618e-01, 6.2452e-01, 1.4765e-01,\n",
            "          2.6178e-01, 9.4469e-01, 6.7206e-01],\n",
            "         [9.2749e-01, 5.4545e-01, 9.5144e-01, 5.9961e-01, 6.5612e-01,\n",
            "          9.1401e-01, 9.6591e-02, 1.4399e-01],\n",
            "         [5.4459e-01, 9.0597e-01, 3.7992e-01, 9.7407e-01, 3.4977e-01,\n",
            "          5.1777e-01, 9.4886e-01, 9.1496e-01]]])\n"
          ]
        }
      ]
    },
    {
      "cell_type": "markdown",
      "metadata": {
        "id": "57H3xN7erBon"
      },
      "source": [
        "# 2. Tensor Indexing and Slicing"
      ]
    },
    {
      "cell_type": "code",
      "execution_count": null,
      "metadata": {
        "id": "I6v5rPDurBon"
      },
      "outputs": [],
      "source": [
        "# Create a tensor tensor of shape (3, 4) with values ranging from 10 to 22.\n"
      ]
    },
    {
      "cell_type": "code",
      "source": [
        "t_range = torch.arange(10, 22).reshape(3, 4)\n",
        "print(t_range)"
      ],
      "metadata": {
        "colab": {
          "base_uri": "https://localhost:8080/"
        },
        "id": "KOoOxo4Q587l",
        "outputId": "bfd62fee-65e1-4813-f275-61d6bbebf7ee"
      },
      "execution_count": 19,
      "outputs": [
        {
          "output_type": "stream",
          "name": "stdout",
          "text": [
            "tensor([[10, 11, 12, 13],\n",
            "        [14, 15, 16, 17],\n",
            "        [18, 19, 20, 21]])\n"
          ]
        }
      ]
    },
    {
      "cell_type": "code",
      "execution_count": null,
      "metadata": {
        "id": "7zKu_ewQrBon"
      },
      "outputs": [],
      "source": [
        "# Access the element at the second row, third column."
      ]
    },
    {
      "cell_type": "code",
      "source": [
        "# Index for the n-th position is always n-1 due to zero-based indexing\n",
        "\n",
        "print(\"Element at the 2nd row, 3rd column: \", t_range[1,2])"
      ],
      "metadata": {
        "id": "jvl60eeX6rRV",
        "outputId": "e0915e7b-1337-46e6-d5f7-bcae4178c759",
        "colab": {
          "base_uri": "https://localhost:8080/"
        }
      },
      "execution_count": 27,
      "outputs": [
        {
          "output_type": "stream",
          "name": "stdout",
          "text": [
            "Element at the 2nd row, 3rd column:  tensor(16)\n"
          ]
        }
      ]
    },
    {
      "cell_type": "code",
      "execution_count": null,
      "metadata": {
        "id": "yk1KmRNHrBon"
      },
      "outputs": [],
      "source": [
        "# Print the second row."
      ]
    },
    {
      "cell_type": "code",
      "source": [
        "print(\"2nd row: \", t_range[1])"
      ],
      "metadata": {
        "id": "wahKy7cz8B2B",
        "outputId": "8a5caf3e-fae2-4364-ecc2-3f270fd22e5b",
        "colab": {
          "base_uri": "https://localhost:8080/"
        }
      },
      "execution_count": 28,
      "outputs": [
        {
          "output_type": "stream",
          "name": "stdout",
          "text": [
            "2nd row:  tensor([14, 15, 16, 17])\n"
          ]
        }
      ]
    },
    {
      "cell_type": "code",
      "execution_count": null,
      "metadata": {
        "id": "H6JmvlJArBon"
      },
      "outputs": [],
      "source": [
        "# Print the first two columns."
      ]
    },
    {
      "cell_type": "code",
      "source": [
        "#: selects all rows\n",
        "#:2 selects columns at index 0 and 1 (the first two columns)\n",
        "\n",
        "print(\"First two columns: \",t_range[:,:2])"
      ],
      "metadata": {
        "id": "VQfl83IR8MYH",
        "outputId": "dea699e9-47cf-426b-bec4-9b3c87ee53f6",
        "colab": {
          "base_uri": "https://localhost:8080/"
        }
      },
      "execution_count": 31,
      "outputs": [
        {
          "output_type": "stream",
          "name": "stdout",
          "text": [
            "First two columns:  tensor([[10, 11],\n",
            "        [14, 15],\n",
            "        [18, 19]])\n"
          ]
        }
      ]
    },
    {
      "cell_type": "markdown",
      "metadata": {
        "id": "zVeU-Rg-rBon"
      },
      "source": [
        "# 3. Tensor Arithmetic Operations"
      ]
    },
    {
      "cell_type": "code",
      "execution_count": null,
      "metadata": {
        "id": "KP1LlIkrrBon"
      },
      "outputs": [],
      "source": [
        "# Create two tensors tensor_a and tensor_b of shape (3, 3) with random values."
      ]
    },
    {
      "cell_type": "code",
      "execution_count": null,
      "metadata": {
        "id": "4ciVEFUPrBon"
      },
      "outputs": [],
      "source": [
        "# Perform element-wise addition."
      ]
    },
    {
      "cell_type": "code",
      "execution_count": null,
      "metadata": {
        "id": "Em202S4RrBon"
      },
      "outputs": [],
      "source": [
        "# Perform element-wise multiplication."
      ]
    },
    {
      "cell_type": "code",
      "execution_count": null,
      "metadata": {
        "id": "GPTyPOB0rBon"
      },
      "outputs": [],
      "source": [
        "# Subtract tensor_b from tensor_a."
      ]
    },
    {
      "cell_type": "markdown",
      "metadata": {
        "id": "wMA2dJ9DrBon"
      },
      "source": [
        "# 4. Tensor Aggregation Operations"
      ]
    },
    {
      "cell_type": "code",
      "execution_count": null,
      "metadata": {
        "id": "h7YcdBFerBon"
      },
      "outputs": [],
      "source": [
        "# Create a tensor tensor of shape (3, 3) with values ranging from 1 to 9."
      ]
    },
    {
      "cell_type": "code",
      "execution_count": null,
      "metadata": {
        "id": "BHSj7_nerBoo"
      },
      "outputs": [],
      "source": [
        "# Compute the sum of all elements."
      ]
    },
    {
      "cell_type": "code",
      "execution_count": null,
      "metadata": {
        "id": "ZX8WO5-KrBoo"
      },
      "outputs": [],
      "source": [
        "# Compute the mean of all elements."
      ]
    },
    {
      "cell_type": "code",
      "execution_count": null,
      "metadata": {
        "id": "PGDwBUMSrBoo"
      },
      "outputs": [],
      "source": [
        "# Find the maximum and minimum values."
      ]
    },
    {
      "cell_type": "code",
      "execution_count": null,
      "metadata": {
        "id": "gUtJIzzBrBoo"
      },
      "outputs": [],
      "source": [
        "# Compute the sum along the rows."
      ]
    },
    {
      "cell_type": "code",
      "execution_count": null,
      "metadata": {
        "id": "3RgRMg1grBoo"
      },
      "outputs": [],
      "source": [
        "# Compute the mean along the columns."
      ]
    },
    {
      "cell_type": "markdown",
      "metadata": {
        "id": "-QDpoOlIrBoo"
      },
      "source": [
        "# 5. Tensor Reshaping Operations"
      ]
    },
    {
      "cell_type": "code",
      "execution_count": null,
      "metadata": {
        "id": "y5LYkfQRrBoo"
      },
      "outputs": [],
      "source": [
        "# Create a tensor tensor of shape (2, 3, 4) with random values."
      ]
    },
    {
      "cell_type": "code",
      "execution_count": null,
      "metadata": {
        "id": "nKxrPmPdrBoo"
      },
      "outputs": [],
      "source": [
        "# Reshape the tensor to (4, 6)."
      ]
    },
    {
      "cell_type": "code",
      "execution_count": null,
      "metadata": {
        "id": "MIlyD46VrBoo"
      },
      "outputs": [],
      "source": [
        "# Transpose the tensor (swap the first and second dimensions)."
      ]
    },
    {
      "cell_type": "code",
      "execution_count": null,
      "metadata": {
        "id": "PCduQWV9rBoo"
      },
      "outputs": [],
      "source": [
        "# Flatten the tensor to a 1D tensor."
      ]
    },
    {
      "cell_type": "markdown",
      "metadata": {
        "id": "twQA4pR6rBoo"
      },
      "source": [
        "# 6. Tensor Broadcasting"
      ]
    },
    {
      "cell_type": "code",
      "execution_count": null,
      "metadata": {
        "id": "s76Yb_-XrBoo"
      },
      "outputs": [],
      "source": [
        "# Create a tensor tensor_a of shape (2, 3) with values ranging from 1 to 6."
      ]
    },
    {
      "cell_type": "code",
      "execution_count": null,
      "metadata": {
        "id": "WzuaeV8YrBoo"
      },
      "outputs": [],
      "source": [
        "# Create a tensor tensor_b of shape (1, 3) with values [1, 2, 3]."
      ]
    },
    {
      "cell_type": "code",
      "execution_count": null,
      "metadata": {
        "id": "9cIlfhoorBoo"
      },
      "outputs": [],
      "source": [
        "# Perform broadcasting addition."
      ]
    },
    {
      "cell_type": "code",
      "execution_count": null,
      "metadata": {
        "id": "YCTkSSJfrBoo"
      },
      "outputs": [],
      "source": [
        "# Create a tensor tensor_c of shape (3, 1) with values [1, 2, 3]."
      ]
    },
    {
      "cell_type": "code",
      "execution_count": null,
      "metadata": {
        "id": "2op2i2TarBoo"
      },
      "outputs": [],
      "source": [
        "# Perform broadcasting multiplication."
      ]
    },
    {
      "cell_type": "markdown",
      "metadata": {
        "id": "XbcgGAl1rBoo"
      },
      "source": [
        "# 7. Tensor Device Management"
      ]
    },
    {
      "cell_type": "code",
      "execution_count": null,
      "metadata": {
        "id": "uscrQru3rBoo"
      },
      "outputs": [],
      "source": [
        "# Create a tensor of shape (3, 3) with random values and move it to GPU (if available)."
      ]
    },
    {
      "cell_type": "code",
      "execution_count": null,
      "metadata": {
        "id": "HP9Hh2TdrBoo"
      },
      "outputs": [],
      "source": [
        "# Verify if the tensor is on GPU.\n",
        "# Move the tensor back to CPU."
      ]
    },
    {
      "cell_type": "markdown",
      "metadata": {
        "id": "BCUKfYRGrBoo"
      },
      "source": [
        "# 8. Tensor Cloning and Detaching"
      ]
    },
    {
      "cell_type": "code",
      "execution_count": null,
      "metadata": {
        "id": "uzXHqTF-rBop"
      },
      "outputs": [],
      "source": [
        "# Create a tensor tensor of shape (3,) with values [1, 2, 3] and set requires_grad=True."
      ]
    },
    {
      "cell_type": "code",
      "execution_count": null,
      "metadata": {
        "id": "kkF-NrH8rBop"
      },
      "outputs": [],
      "source": [
        "# Clone the tensor and print the cloned tensor."
      ]
    },
    {
      "cell_type": "code",
      "execution_count": null,
      "metadata": {
        "id": "45yyyo9JrBop"
      },
      "outputs": [],
      "source": [
        "# Detach the tensor from the computation graph and print the detached tensor."
      ]
    },
    {
      "cell_type": "markdown",
      "metadata": {
        "id": "LC_MsQCbrBop"
      },
      "source": [
        "# 9. High Dimensional Tensors"
      ]
    },
    {
      "cell_type": "code",
      "execution_count": null,
      "metadata": {
        "id": "79KVDZZYrBop"
      },
      "outputs": [],
      "source": [
        "# Create a 4D tensor tensor of shape (2, 3, 4, 5) with random values."
      ]
    },
    {
      "cell_type": "code",
      "execution_count": null,
      "metadata": {
        "id": "l9ysjEDZrBop"
      },
      "outputs": [],
      "source": [
        "# Print the shape of the tensor."
      ]
    },
    {
      "cell_type": "code",
      "execution_count": null,
      "metadata": {
        "id": "SUTKvVQHrBop"
      },
      "outputs": [],
      "source": [
        "# Access the element at position (1, 2, 3, 4)."
      ]
    },
    {
      "cell_type": "code",
      "execution_count": null,
      "metadata": {
        "id": "aRzT8c1IrBop"
      },
      "outputs": [],
      "source": [
        "# Slice and print the first two elements along the first dimension."
      ]
    },
    {
      "cell_type": "code",
      "execution_count": null,
      "metadata": {
        "id": "aRu9L2uYrBop"
      },
      "outputs": [],
      "source": [
        "# Sum all elements in the tensor."
      ]
    },
    {
      "cell_type": "code",
      "execution_count": null,
      "metadata": {
        "id": "T1RRaaqtrBop"
      },
      "outputs": [],
      "source": [
        "# Compute the mean along the third dimension."
      ]
    },
    {
      "cell_type": "markdown",
      "metadata": {
        "id": "A1WxD11urBop"
      },
      "source": [
        "# 10. Combining Tensor Operations"
      ]
    },
    {
      "cell_type": "code",
      "execution_count": null,
      "metadata": {
        "id": "qivNHWQbrBop"
      },
      "outputs": [],
      "source": [
        "# Create two tensors tensor_a and tensor_b of shape (2, 3, 4) with random values."
      ]
    },
    {
      "cell_type": "code",
      "execution_count": null,
      "metadata": {
        "id": "yD_Irn66rBop"
      },
      "outputs": [],
      "source": [
        "# Add the two tensors."
      ]
    },
    {
      "cell_type": "code",
      "execution_count": null,
      "metadata": {
        "id": "IbAxo4WDrBop"
      },
      "outputs": [],
      "source": [
        "# Multiply the resulting tensor by 2."
      ]
    },
    {
      "cell_type": "code",
      "execution_count": null,
      "metadata": {
        "id": "2v03XPplrBop"
      },
      "outputs": [],
      "source": [
        "# Reshape the tensor to (4, 6)."
      ]
    },
    {
      "cell_type": "code",
      "execution_count": null,
      "metadata": {
        "id": "WB31v0FDrBop"
      },
      "outputs": [],
      "source": [
        "# Compute the sum along the columns."
      ]
    },
    {
      "cell_type": "markdown",
      "metadata": {
        "id": "BPJPyj-XrBop"
      },
      "source": [
        "-------------------------------------------- END ----------------------------------------------"
      ]
    }
  ],
  "metadata": {
    "kernelspec": {
      "display_name": "pytorch_env",
      "language": "python",
      "name": "python3"
    },
    "language_info": {
      "codemirror_mode": {
        "name": "ipython",
        "version": 3
      },
      "file_extension": ".py",
      "mimetype": "text/x-python",
      "name": "python",
      "nbconvert_exporter": "python",
      "pygments_lexer": "ipython3",
      "version": "3.10.14"
    },
    "colab": {
      "provenance": []
    }
  },
  "nbformat": 4,
  "nbformat_minor": 0
}