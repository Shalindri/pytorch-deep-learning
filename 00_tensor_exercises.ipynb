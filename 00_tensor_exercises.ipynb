{
  "cells": [
    {
      "cell_type": "code",
      "execution_count": 43,
      "metadata": {
        "id": "C_36UVVzrBol"
      },
      "outputs": [],
      "source": [
        "# Sumani\n",
        "# 22-7-2024"
      ]
    },
    {
      "cell_type": "markdown",
      "metadata": {
        "id": "4AhWkrlqrBom"
      },
      "source": [
        "# Tensor Exercises"
      ]
    },
    {
      "cell_type": "markdown",
      "metadata": {
        "id": "DcPb9sVarBom"
      },
      "source": [
        "# 1. Tensor Creation"
      ]
    },
    {
      "cell_type": "code",
      "source": [
        "import torch"
      ],
      "metadata": {
        "id": "BQRAnohsyRdc"
      },
      "execution_count": 44,
      "outputs": []
    },
    {
      "cell_type": "code",
      "execution_count": 45,
      "metadata": {
        "id": "iRnqztZErBom"
      },
      "outputs": [],
      "source": [
        "# Create a tensor of shape (2, 4) filled with ones."
      ]
    },
    {
      "cell_type": "code",
      "source": [
        "one_t = torch.ones((2, 4))\n",
        "print(one_t)"
      ],
      "metadata": {
        "colab": {
          "base_uri": "https://localhost:8080/"
        },
        "id": "QTz5g3SvtPHZ",
        "outputId": "316927f9-f46a-4709-eb73-98fc9def81b7"
      },
      "execution_count": 46,
      "outputs": [
        {
          "output_type": "stream",
          "name": "stdout",
          "text": [
            "tensor([[1., 1., 1., 1.],\n",
            "        [1., 1., 1., 1.]])\n"
          ]
        }
      ]
    },
    {
      "cell_type": "code",
      "execution_count": 47,
      "metadata": {
        "id": "epyHY8EPrBom"
      },
      "outputs": [],
      "source": [
        "# Create a tensor of shape (5, 3) filled with random values."
      ]
    },
    {
      "cell_type": "code",
      "source": [
        "random_t = torch.rand((5, 3))\n",
        "print(random_t)"
      ],
      "metadata": {
        "colab": {
          "base_uri": "https://localhost:8080/"
        },
        "id": "182hfE1ky7l-",
        "outputId": "28f93a61-e653-4b94-ddcb-cffe6cf75216"
      },
      "execution_count": 48,
      "outputs": [
        {
          "output_type": "stream",
          "name": "stdout",
          "text": [
            "tensor([[0.0968, 0.9286, 0.5263],\n",
            "        [0.2373, 0.8014, 0.7398],\n",
            "        [0.6465, 0.2850, 0.3048],\n",
            "        [0.1253, 0.7674, 0.4311],\n",
            "        [0.1229, 0.3574, 0.0705]])\n"
          ]
        }
      ]
    },
    {
      "cell_type": "code",
      "execution_count": 49,
      "metadata": {
        "id": "kc8Da75KrBon"
      },
      "outputs": [],
      "source": [
        "# Create a tensor from a list [5, 10, 15, 20]."
      ]
    },
    {
      "cell_type": "code",
      "source": [
        "list_t = torch.tensor([5,10,15,20])\n",
        "print(list_t)"
      ],
      "metadata": {
        "colab": {
          "base_uri": "https://localhost:8080/"
        },
        "id": "xvnm8x713FGm",
        "outputId": "1aba36d9-f166-4f01-d75f-45ef1276ced7"
      },
      "execution_count": 50,
      "outputs": [
        {
          "output_type": "stream",
          "name": "stdout",
          "text": [
            "tensor([ 5, 10, 15, 20])\n"
          ]
        }
      ]
    },
    {
      "cell_type": "code",
      "execution_count": 51,
      "metadata": {
        "id": "0Xdt5uGprBon"
      },
      "outputs": [],
      "source": [
        "# Create a tensor to represent an image that has width of 8, height of 6, and 3 channels."
      ]
    },
    {
      "cell_type": "code",
      "source": [
        "# rows = height = 6\n",
        "# coulms = width = 8\n",
        "# Channels = RGB\n",
        "\n",
        "image_t = torch.rand(3,6,8)\n",
        "print(image_t)"
      ],
      "metadata": {
        "colab": {
          "base_uri": "https://localhost:8080/"
        },
        "id": "k-KhuYTn3ggX",
        "outputId": "9a21c6d5-0fbe-457d-c826-d7b2090cde94"
      },
      "execution_count": 52,
      "outputs": [
        {
          "output_type": "stream",
          "name": "stdout",
          "text": [
            "tensor([[[0.2704, 0.9827, 0.2368, 0.5322, 0.4335, 0.8484, 0.2223, 0.9426],\n",
            "         [0.0989, 0.8282, 0.0131, 0.8278, 0.7442, 0.5625, 0.6022, 0.0770],\n",
            "         [0.2537, 0.8592, 0.9288, 0.3049, 0.2329, 0.1269, 0.2844, 0.4312],\n",
            "         [0.2979, 0.8412, 0.5970, 0.4171, 0.5487, 0.1153, 0.1022, 0.3497],\n",
            "         [0.6592, 0.0232, 0.2667, 0.8978, 0.9063, 0.0840, 0.6394, 0.8223],\n",
            "         [0.3007, 0.6247, 0.4697, 0.2672, 0.3516, 0.3675, 0.9434, 0.7766]],\n",
            "\n",
            "        [[0.8694, 0.3174, 0.8162, 0.1113, 0.4805, 0.1760, 0.6742, 0.7134],\n",
            "         [0.3651, 0.3182, 0.1182, 0.9406, 0.2694, 0.8123, 0.6044, 0.9795],\n",
            "         [0.8031, 0.8660, 0.9707, 0.9709, 0.3925, 0.1048, 0.5647, 0.0809],\n",
            "         [0.2031, 0.3417, 0.7728, 0.9963, 0.8851, 0.3483, 0.5081, 0.9204],\n",
            "         [0.4542, 0.3931, 0.7479, 0.4398, 0.6588, 0.0590, 0.2026, 0.2117],\n",
            "         [0.2961, 0.4968, 0.4380, 0.0325, 0.6358, 0.5509, 0.1549, 0.9121]],\n",
            "\n",
            "        [[0.3460, 0.4260, 0.9235, 0.8178, 0.1622, 0.2201, 0.0144, 0.0297],\n",
            "         [0.0960, 0.0365, 0.4002, 0.5116, 0.2698, 0.7079, 0.5441, 0.9008],\n",
            "         [0.4401, 0.0898, 0.0139, 0.5524, 0.7221, 0.7265, 0.7948, 0.1153],\n",
            "         [0.2048, 0.8410, 0.7425, 0.5620, 0.0046, 0.8933, 0.8430, 0.9489],\n",
            "         [0.6322, 0.7912, 0.0955, 0.7140, 0.3419, 0.1439, 0.1480, 0.3549],\n",
            "         [0.6775, 0.9494, 0.3727, 0.1985, 0.5924, 0.2204, 0.6369, 0.6624]]])\n"
          ]
        }
      ]
    },
    {
      "cell_type": "markdown",
      "metadata": {
        "id": "57H3xN7erBon"
      },
      "source": [
        "# 2. Tensor Indexing and Slicing"
      ]
    },
    {
      "cell_type": "code",
      "execution_count": 53,
      "metadata": {
        "id": "I6v5rPDurBon"
      },
      "outputs": [],
      "source": [
        "# Create a tensor tensor of shape (3, 4) with values ranging from 10 to 22.\n"
      ]
    },
    {
      "cell_type": "code",
      "source": [
        "t_range = torch.arange(10, 22).reshape(3, 4)\n",
        "print(t_range)"
      ],
      "metadata": {
        "colab": {
          "base_uri": "https://localhost:8080/"
        },
        "id": "KOoOxo4Q587l",
        "outputId": "c47f4272-436e-4903-86aa-78572b5f4ff2"
      },
      "execution_count": 54,
      "outputs": [
        {
          "output_type": "stream",
          "name": "stdout",
          "text": [
            "tensor([[10, 11, 12, 13],\n",
            "        [14, 15, 16, 17],\n",
            "        [18, 19, 20, 21]])\n"
          ]
        }
      ]
    },
    {
      "cell_type": "code",
      "execution_count": 55,
      "metadata": {
        "id": "7zKu_ewQrBon"
      },
      "outputs": [],
      "source": [
        "# Access the element at the second row, third column."
      ]
    },
    {
      "cell_type": "code",
      "source": [
        "# Index for the n-th position is always n-1 due to zero-based indexing\n",
        "\n",
        "print(\"Element at the 2nd row, 3rd column: \", t_range[1,2])"
      ],
      "metadata": {
        "colab": {
          "base_uri": "https://localhost:8080/"
        },
        "id": "jvl60eeX6rRV",
        "outputId": "2dea3adb-fff2-4451-a012-a2fc6d92064c"
      },
      "execution_count": 56,
      "outputs": [
        {
          "output_type": "stream",
          "name": "stdout",
          "text": [
            "Element at the 2nd row, 3rd column:  tensor(16)\n"
          ]
        }
      ]
    },
    {
      "cell_type": "code",
      "execution_count": 57,
      "metadata": {
        "id": "yk1KmRNHrBon"
      },
      "outputs": [],
      "source": [
        "# Print the second row."
      ]
    },
    {
      "cell_type": "code",
      "source": [
        "print(\"2nd row: \", t_range[1])"
      ],
      "metadata": {
        "colab": {
          "base_uri": "https://localhost:8080/"
        },
        "id": "wahKy7cz8B2B",
        "outputId": "39268731-e24c-4bb1-da2d-66c1110e41b7"
      },
      "execution_count": 58,
      "outputs": [
        {
          "output_type": "stream",
          "name": "stdout",
          "text": [
            "2nd row:  tensor([14, 15, 16, 17])\n"
          ]
        }
      ]
    },
    {
      "cell_type": "code",
      "execution_count": 59,
      "metadata": {
        "id": "H6JmvlJArBon"
      },
      "outputs": [],
      "source": [
        "# Print the first two columns."
      ]
    },
    {
      "cell_type": "code",
      "source": [
        "#: selects all rows\n",
        "#:2 selects columns at index 0 and 1 (the first two columns)\n",
        "\n",
        "print(\"First two columns: \",t_range[:,:2])"
      ],
      "metadata": {
        "colab": {
          "base_uri": "https://localhost:8080/"
        },
        "id": "VQfl83IR8MYH",
        "outputId": "87bdb305-9ff1-4af8-e4ce-403c0e5dce19"
      },
      "execution_count": 60,
      "outputs": [
        {
          "output_type": "stream",
          "name": "stdout",
          "text": [
            "First two columns:  tensor([[10, 11],\n",
            "        [14, 15],\n",
            "        [18, 19]])\n"
          ]
        }
      ]
    },
    {
      "cell_type": "markdown",
      "metadata": {
        "id": "zVeU-Rg-rBon"
      },
      "source": [
        "# 3. Tensor Arithmetic Operations"
      ]
    },
    {
      "cell_type": "code",
      "execution_count": 61,
      "metadata": {
        "id": "KP1LlIkrrBon"
      },
      "outputs": [],
      "source": [
        "# Create two tensors tensor_a and tensor_b of shape (3, 3) with random values."
      ]
    },
    {
      "cell_type": "code",
      "source": [
        "tensor_a = torch.randint(1,100,(3,3))\n",
        "tensor_b = torch.randint(1,100,(3,3))\n",
        "\n",
        "\n",
        "print(\"Tensor A:\\n\", tensor_a)\n",
        "print(\"Tensor B:\\n\", tensor_b)"
      ],
      "metadata": {
        "colab": {
          "base_uri": "https://localhost:8080/"
        },
        "id": "ph0SQOzU1bs6",
        "outputId": "8db43328-f429-4eb2-d6e3-99be54876596"
      },
      "execution_count": 62,
      "outputs": [
        {
          "output_type": "stream",
          "name": "stdout",
          "text": [
            "Tensor A:\n",
            " tensor([[ 6,  7, 46],\n",
            "        [82, 69, 59],\n",
            "        [36, 78, 59]])\n",
            "Tensor B:\n",
            " tensor([[91, 10, 73],\n",
            "        [47, 88, 17],\n",
            "        [19, 39, 38]])\n"
          ]
        }
      ]
    },
    {
      "cell_type": "code",
      "execution_count": 63,
      "metadata": {
        "id": "4ciVEFUPrBon"
      },
      "outputs": [],
      "source": [
        "# Perform element-wise addition."
      ]
    },
    {
      "cell_type": "code",
      "source": [
        "tensor_add = tensor_a + tensor_b\n",
        "print(\"tensor_a + tensor_b = \\n \", tensor_add)\n",
        "\n",
        "tensor_add_2= torch.add(tensor_a, tensor_b)\n",
        "\n",
        "print(\"tensor_a + tensor_b = \\n \", tensor_add_2)\n"
      ],
      "metadata": {
        "colab": {
          "base_uri": "https://localhost:8080/"
        },
        "id": "AIE_8vTZ1cSn",
        "outputId": "5fc0fe8c-9754-46c5-86c7-ebe48b34c0c5"
      },
      "execution_count": 64,
      "outputs": [
        {
          "output_type": "stream",
          "name": "stdout",
          "text": [
            "tensor_a + tensor_b = \n",
            "  tensor([[ 97,  17, 119],\n",
            "        [129, 157,  76],\n",
            "        [ 55, 117,  97]])\n",
            "tensor_a + tensor_b = \n",
            "  tensor([[ 97,  17, 119],\n",
            "        [129, 157,  76],\n",
            "        [ 55, 117,  97]])\n"
          ]
        }
      ]
    },
    {
      "cell_type": "code",
      "execution_count": 65,
      "metadata": {
        "id": "Em202S4RrBon"
      },
      "outputs": [],
      "source": [
        "# Perform element-wise multiplication."
      ]
    },
    {
      "cell_type": "code",
      "source": [
        "tensor_mul = tensor_a * tensor_b\n",
        "print(\"tensor_a x tensor_b = \\n \", tensor_mul)\n",
        "\n",
        "tensor_mul_2= torch.mul(tensor_a, tensor_b)\n",
        "print(\"tensor_a x tensor_b = \\n \", tensor_mul_2)\n",
        "\n",
        "\n",
        "tensor_mul_3= torch.multiply(tensor_a, tensor_b)\n",
        "print(\"tensor_a x tensor_b = \\n \", tensor_mul_3)"
      ],
      "metadata": {
        "colab": {
          "base_uri": "https://localhost:8080/"
        },
        "id": "MRe4xNE31c1S",
        "outputId": "b59db2b6-2826-41c0-ca43-d1a8446ae792"
      },
      "execution_count": 66,
      "outputs": [
        {
          "output_type": "stream",
          "name": "stdout",
          "text": [
            "tensor_a x tensor_b = \n",
            "  tensor([[ 546,   70, 3358],\n",
            "        [3854, 6072, 1003],\n",
            "        [ 684, 3042, 2242]])\n",
            "tensor_a x tensor_b = \n",
            "  tensor([[ 546,   70, 3358],\n",
            "        [3854, 6072, 1003],\n",
            "        [ 684, 3042, 2242]])\n",
            "tensor_a x tensor_b = \n",
            "  tensor([[ 546,   70, 3358],\n",
            "        [3854, 6072, 1003],\n",
            "        [ 684, 3042, 2242]])\n"
          ]
        }
      ]
    },
    {
      "cell_type": "code",
      "execution_count": 67,
      "metadata": {
        "id": "GPTyPOB0rBon"
      },
      "outputs": [],
      "source": [
        "# Subtract tensor_b from tensor_a."
      ]
    },
    {
      "cell_type": "code",
      "source": [
        "tensor_sub = tensor_a - tensor_b\n",
        "print(\"tensor_a - tensor_b = \\n \", tensor_sub)\n",
        "\n",
        "tensor_sub_2= torch.sub(tensor_a, tensor_b)\n",
        "\n",
        "print(\"tensor_a - tensor_b = \\n \", tensor_sub_2)"
      ],
      "metadata": {
        "colab": {
          "base_uri": "https://localhost:8080/"
        },
        "id": "ZMvvvN551dnQ",
        "outputId": "05481abd-0eb7-4a2b-99b0-1387377d3a2e"
      },
      "execution_count": 68,
      "outputs": [
        {
          "output_type": "stream",
          "name": "stdout",
          "text": [
            "tensor_a - tensor_b = \n",
            "  tensor([[-85,  -3, -27],\n",
            "        [ 35, -19,  42],\n",
            "        [ 17,  39,  21]])\n",
            "tensor_a - tensor_b = \n",
            "  tensor([[-85,  -3, -27],\n",
            "        [ 35, -19,  42],\n",
            "        [ 17,  39,  21]])\n"
          ]
        }
      ]
    },
    {
      "cell_type": "markdown",
      "metadata": {
        "id": "wMA2dJ9DrBon"
      },
      "source": [
        "# 4. Tensor Aggregation Operations"
      ]
    },
    {
      "cell_type": "code",
      "execution_count": 69,
      "metadata": {
        "id": "h7YcdBFerBon"
      },
      "outputs": [],
      "source": [
        "# Create a tensor tensor of shape (3, 3) with values ranging from 1 to 9."
      ]
    },
    {
      "cell_type": "code",
      "source": [
        "tensor_agg = torch.arange(1, 10).reshape(3, 3)\n",
        "\n",
        "print(\"tensor of shape (3, 3) with values ranging from 1 to 9: \\n\", tensor_agg)"
      ],
      "metadata": {
        "colab": {
          "base_uri": "https://localhost:8080/"
        },
        "id": "B6gX94eR9mbJ",
        "outputId": "15565e1e-ffc4-4b40-9ec9-f5086d395ffd"
      },
      "execution_count": 70,
      "outputs": [
        {
          "output_type": "stream",
          "name": "stdout",
          "text": [
            "tensor of shape (3, 3) with values ranging from 1 to 9: \n",
            " tensor([[1, 2, 3],\n",
            "        [4, 5, 6],\n",
            "        [7, 8, 9]])\n"
          ]
        }
      ]
    },
    {
      "cell_type": "code",
      "execution_count": 71,
      "metadata": {
        "id": "BHSj7_nerBoo"
      },
      "outputs": [],
      "source": [
        "# Compute the sum of all elements."
      ]
    },
    {
      "cell_type": "code",
      "source": [
        "sum = torch.sum(tensor_agg)\n",
        "print(\"Sum =\", sum.item())"
      ],
      "metadata": {
        "colab": {
          "base_uri": "https://localhost:8080/"
        },
        "id": "s5d83Nvy-1k7",
        "outputId": "3ba489e6-049b-4faa-e211-203609096a48"
      },
      "execution_count": 72,
      "outputs": [
        {
          "output_type": "stream",
          "name": "stdout",
          "text": [
            "Sum = 45\n"
          ]
        }
      ]
    },
    {
      "cell_type": "code",
      "execution_count": 73,
      "metadata": {
        "id": "ZX8WO5-KrBoo"
      },
      "outputs": [],
      "source": [
        "# Compute the mean of all elements."
      ]
    },
    {
      "cell_type": "code",
      "source": [
        "mean = tensor_agg.float().mean()\n",
        "print(\"Mean :\", mean.item())"
      ],
      "metadata": {
        "colab": {
          "base_uri": "https://localhost:8080/"
        },
        "id": "vUwNi-Nz-2YR",
        "outputId": "ceac48e8-4e02-4650-b537-4a946ea8239b"
      },
      "execution_count": 74,
      "outputs": [
        {
          "output_type": "stream",
          "name": "stdout",
          "text": [
            "Mean : 5.0\n"
          ]
        }
      ]
    },
    {
      "cell_type": "code",
      "execution_count": 75,
      "metadata": {
        "id": "PGDwBUMSrBoo"
      },
      "outputs": [],
      "source": [
        "# Find the maximum and minimum values."
      ]
    },
    {
      "cell_type": "code",
      "source": [
        "max = tensor_agg.max()\n",
        "print(\"max :\", max.item())"
      ],
      "metadata": {
        "colab": {
          "base_uri": "https://localhost:8080/"
        },
        "id": "hM8rJdoo-4Fn",
        "outputId": "b3e7afeb-7ebe-4ec3-d2b2-ce7ded021679"
      },
      "execution_count": 76,
      "outputs": [
        {
          "output_type": "stream",
          "name": "stdout",
          "text": [
            "max : 9\n"
          ]
        }
      ]
    },
    {
      "cell_type": "code",
      "execution_count": 77,
      "metadata": {
        "id": "gUtJIzzBrBoo"
      },
      "outputs": [],
      "source": [
        "# Compute the sum along the rows."
      ]
    },
    {
      "cell_type": "code",
      "source": [
        "#dim=0: sum down the rows (column-wise)\n",
        "\n",
        "#dim=1: sum across the columns (row-wise)\n",
        "\n",
        "sum_rows = torch.sum(tensor_agg,dim=1)\n",
        "print(sum_rows)"
      ],
      "metadata": {
        "colab": {
          "base_uri": "https://localhost:8080/"
        },
        "id": "DRsL-n9C-5Cy",
        "outputId": "277c761e-e4ff-429b-b492-b3c011a44c71"
      },
      "execution_count": 78,
      "outputs": [
        {
          "output_type": "stream",
          "name": "stdout",
          "text": [
            "tensor([ 6, 15, 24])\n"
          ]
        }
      ]
    },
    {
      "cell_type": "code",
      "execution_count": 79,
      "metadata": {
        "id": "3RgRMg1grBoo"
      },
      "outputs": [],
      "source": [
        "# Compute the mean along the columns."
      ]
    },
    {
      "cell_type": "code",
      "source": [
        "print(tensor_agg)\n",
        "mean_col = tensor_agg.float().mean(dim=0)\n",
        "print(\"Mean along columns:\\n\", mean_col)\n"
      ],
      "metadata": {
        "colab": {
          "base_uri": "https://localhost:8080/"
        },
        "id": "yNonxo97-5k0",
        "outputId": "a3de3f73-677a-436e-b92b-8f6702edd3e2"
      },
      "execution_count": 80,
      "outputs": [
        {
          "output_type": "stream",
          "name": "stdout",
          "text": [
            "tensor([[1, 2, 3],\n",
            "        [4, 5, 6],\n",
            "        [7, 8, 9]])\n",
            "Mean along columns:\n",
            " tensor([4., 5., 6.])\n"
          ]
        }
      ]
    },
    {
      "cell_type": "markdown",
      "metadata": {
        "id": "-QDpoOlIrBoo"
      },
      "source": [
        "# 5. Tensor Reshaping Operations"
      ]
    },
    {
      "cell_type": "code",
      "execution_count": 81,
      "metadata": {
        "id": "y5LYkfQRrBoo"
      },
      "outputs": [],
      "source": [
        "# Create a tensor tensor of shape (2, 3, 4) with random values."
      ]
    },
    {
      "cell_type": "code",
      "source": [
        "tensor_x = torch.randint(1000,(2,3,4))\n",
        "print(tensor_x)"
      ],
      "metadata": {
        "colab": {
          "base_uri": "https://localhost:8080/"
        },
        "id": "FSrVgTERC0Ew",
        "outputId": "16fb9827-4550-477a-d609-eed4aaf37134"
      },
      "execution_count": 82,
      "outputs": [
        {
          "output_type": "stream",
          "name": "stdout",
          "text": [
            "tensor([[[937, 948, 417,  44],\n",
            "         [782, 994, 421,  56],\n",
            "         [459, 505, 171, 597]],\n",
            "\n",
            "        [[771, 965, 379, 172],\n",
            "         [770, 680, 520, 920],\n",
            "         [104, 167,  17, 789]]])\n"
          ]
        }
      ]
    },
    {
      "cell_type": "code",
      "execution_count": 83,
      "metadata": {
        "id": "nKxrPmPdrBoo"
      },
      "outputs": [],
      "source": [
        "# Reshape the tensor to (4, 6)."
      ]
    },
    {
      "cell_type": "code",
      "source": [
        "tensor_reshape = tensor_x.reshape(4,6)\n",
        "print(tensor_reshape)"
      ],
      "metadata": {
        "colab": {
          "base_uri": "https://localhost:8080/"
        },
        "id": "UeFWVID3C0i9",
        "outputId": "dea64ccd-099e-4e23-c73a-2060fe20bac8"
      },
      "execution_count": 84,
      "outputs": [
        {
          "output_type": "stream",
          "name": "stdout",
          "text": [
            "tensor([[937, 948, 417,  44, 782, 994],\n",
            "        [421,  56, 459, 505, 171, 597],\n",
            "        [771, 965, 379, 172, 770, 680],\n",
            "        [520, 920, 104, 167,  17, 789]])\n"
          ]
        }
      ]
    },
    {
      "cell_type": "code",
      "execution_count": 85,
      "metadata": {
        "id": "MIlyD46VrBoo"
      },
      "outputs": [],
      "source": [
        "# Transpose the tensor (swap the first and second dimensions)."
      ]
    },
    {
      "cell_type": "code",
      "source": [
        "tensor_transpose = tensor_reshape.T\n",
        "print(tensor_transpose)\n",
        "\n",
        "tensor_transpose2 = tensor_reshape.transpose(0, 1)\n",
        "print(tensor_transpose2)"
      ],
      "metadata": {
        "colab": {
          "base_uri": "https://localhost:8080/"
        },
        "id": "utIz29uiC08r",
        "outputId": "8fce4308-50df-4ef9-ef3a-10133be90aed"
      },
      "execution_count": 86,
      "outputs": [
        {
          "output_type": "stream",
          "name": "stdout",
          "text": [
            "tensor([[937, 421, 771, 520],\n",
            "        [948,  56, 965, 920],\n",
            "        [417, 459, 379, 104],\n",
            "        [ 44, 505, 172, 167],\n",
            "        [782, 171, 770,  17],\n",
            "        [994, 597, 680, 789]])\n",
            "tensor([[937, 421, 771, 520],\n",
            "        [948,  56, 965, 920],\n",
            "        [417, 459, 379, 104],\n",
            "        [ 44, 505, 172, 167],\n",
            "        [782, 171, 770,  17],\n",
            "        [994, 597, 680, 789]])\n"
          ]
        }
      ]
    },
    {
      "cell_type": "code",
      "execution_count": 87,
      "metadata": {
        "id": "PCduQWV9rBoo"
      },
      "outputs": [],
      "source": [
        "# Flatten the tensor to a 1D tensor."
      ]
    },
    {
      "cell_type": "code",
      "source": [
        "tensor_1d = tensor_transpose.reshape(24)\n",
        "print(tensor_1d)\n",
        "\n",
        "flattened = tensor_transpose.flatten()\n",
        "print(flattened)\n"
      ],
      "metadata": {
        "colab": {
          "base_uri": "https://localhost:8080/"
        },
        "id": "S-8cla1XC1uR",
        "outputId": "5b7111d4-b3d7-4e46-dc7a-3bae50ce001f"
      },
      "execution_count": 88,
      "outputs": [
        {
          "output_type": "stream",
          "name": "stdout",
          "text": [
            "tensor([937, 421, 771, 520, 948,  56, 965, 920, 417, 459, 379, 104,  44, 505,\n",
            "        172, 167, 782, 171, 770,  17, 994, 597, 680, 789])\n",
            "tensor([937, 421, 771, 520, 948,  56, 965, 920, 417, 459, 379, 104,  44, 505,\n",
            "        172, 167, 782, 171, 770,  17, 994, 597, 680, 789])\n"
          ]
        }
      ]
    },
    {
      "cell_type": "markdown",
      "metadata": {
        "id": "twQA4pR6rBoo"
      },
      "source": [
        "# 6. Tensor Broadcasting"
      ]
    },
    {
      "cell_type": "code",
      "execution_count": 89,
      "metadata": {
        "id": "s76Yb_-XrBoo"
      },
      "outputs": [],
      "source": [
        "# Create a tensor tensor_a of shape (2, 3) with values ranging from 1 to 6."
      ]
    },
    {
      "cell_type": "code",
      "source": [
        "tensor_a = torch.arange(1,7).reshape(2,3)\n",
        "print(tensor_a)"
      ],
      "metadata": {
        "colab": {
          "base_uri": "https://localhost:8080/"
        },
        "id": "4w6f9-aOHbb3",
        "outputId": "bf583a81-75f7-4a81-b437-acaeffd2d62a"
      },
      "execution_count": 90,
      "outputs": [
        {
          "output_type": "stream",
          "name": "stdout",
          "text": [
            "tensor([[1, 2, 3],\n",
            "        [4, 5, 6]])\n"
          ]
        }
      ]
    },
    {
      "cell_type": "code",
      "execution_count": 91,
      "metadata": {
        "id": "WzuaeV8YrBoo"
      },
      "outputs": [],
      "source": [
        "# Create a tensor tensor_b of shape (1, 3) with values [1, 2, 3]."
      ]
    },
    {
      "cell_type": "code",
      "source": [
        "tensor_b = torch.tensor([[1,2,3]])\n",
        "print(tensor_b)\n",
        "print(tensor_b.shape)"
      ],
      "metadata": {
        "colab": {
          "base_uri": "https://localhost:8080/"
        },
        "id": "qfbfudu3HsNj",
        "outputId": "dac718ef-19ed-41cb-8ae7-c562065919eb"
      },
      "execution_count": 92,
      "outputs": [
        {
          "output_type": "stream",
          "name": "stdout",
          "text": [
            "tensor([[1, 2, 3]])\n",
            "torch.Size([1, 3])\n"
          ]
        }
      ]
    },
    {
      "cell_type": "code",
      "execution_count": 93,
      "metadata": {
        "id": "9cIlfhoorBoo"
      },
      "outputs": [],
      "source": [
        "# Perform broadcasting addition."
      ]
    },
    {
      "cell_type": "code",
      "source": [
        "# tensor_b gets broadcast to shape (2, 3)\n",
        "# Broadcasting addition\n",
        "# Last dimension: 3 and 3 → equal\n",
        "# Second-to-last dimension: 2 and 1 →  one dimension is 1 → broadcastable\n",
        "\n",
        "tensor_add = tensor_a + tensor_b\n",
        "print(\"tensor_a + tensor_b = \",tensor_add)\n"
      ],
      "metadata": {
        "colab": {
          "base_uri": "https://localhost:8080/"
        },
        "id": "Ud0MOevMJ-wD",
        "outputId": "22d09988-5e82-40fc-ff79-5322d22feb33"
      },
      "execution_count": 94,
      "outputs": [
        {
          "output_type": "stream",
          "name": "stdout",
          "text": [
            "tensor_a + tensor_b =  tensor([[2, 4, 6],\n",
            "        [5, 7, 9]])\n"
          ]
        }
      ]
    },
    {
      "cell_type": "code",
      "execution_count": 95,
      "metadata": {
        "id": "YCTkSSJfrBoo"
      },
      "outputs": [],
      "source": [
        "# Create a tensor tensor_c of shape (3, 1) with values [1, 2, 3]."
      ]
    },
    {
      "cell_type": "code",
      "source": [
        "tensor_c = torch.tensor([1,2,3]).reshape(3,1)\n",
        "print(tensor_c)"
      ],
      "metadata": {
        "colab": {
          "base_uri": "https://localhost:8080/"
        },
        "id": "OrL7zM5kLBez",
        "outputId": "8fc0d9a6-5c3d-48f0-fc24-31d3dc1299fa"
      },
      "execution_count": 96,
      "outputs": [
        {
          "output_type": "stream",
          "name": "stdout",
          "text": [
            "tensor([[1],\n",
            "        [2],\n",
            "        [3]])\n"
          ]
        }
      ]
    },
    {
      "cell_type": "code",
      "execution_count": 97,
      "metadata": {
        "id": "2op2i2TarBoo"
      },
      "outputs": [],
      "source": [
        "# Perform broadcasting multiplication."
      ]
    },
    {
      "cell_type": "code",
      "source": [
        "#tensor_c: shape (3, 1) → broadcast to (3, 3)\n",
        "#tensor_b: shape (1, 3) → broadcast to (3, 3)\n",
        "\n",
        "result = tensor_b * tensor_c\n",
        "print(\"Result:\\n\", result)"
      ],
      "metadata": {
        "colab": {
          "base_uri": "https://localhost:8080/"
        },
        "id": "th-F8yLeMDaX",
        "outputId": "b11846b9-4eb8-4257-db62-846921f7f257"
      },
      "execution_count": 98,
      "outputs": [
        {
          "output_type": "stream",
          "name": "stdout",
          "text": [
            "Result:\n",
            " tensor([[1, 2, 3],\n",
            "        [2, 4, 6],\n",
            "        [3, 6, 9]])\n"
          ]
        }
      ]
    },
    {
      "cell_type": "markdown",
      "metadata": {
        "id": "XbcgGAl1rBoo"
      },
      "source": [
        "# 7. Tensor Device Management"
      ]
    },
    {
      "cell_type": "code",
      "execution_count": 99,
      "metadata": {
        "id": "uscrQru3rBoo"
      },
      "outputs": [],
      "source": [
        "# Create a tensor of shape (3, 3) with random values and move it to GPU (if available)."
      ]
    },
    {
      "cell_type": "code",
      "source": [
        "# Check if GPU is available\n",
        "device = torch.device(\"cuda\" if torch.cuda.is_available() else \"cpu\")\n",
        "print(device)"
      ],
      "metadata": {
        "colab": {
          "base_uri": "https://localhost:8080/"
        },
        "id": "BPr15SKGM-GU",
        "outputId": "fc0431ea-fdd3-482e-9467-8f7263703b92"
      },
      "execution_count": 100,
      "outputs": [
        {
          "output_type": "stream",
          "name": "stdout",
          "text": [
            "cuda\n"
          ]
        }
      ]
    },
    {
      "cell_type": "code",
      "source": [
        "# Create tensor and move to the appropriate device\n",
        "tensor_gpu = torch.randint(100,(3,3)).to(\"cuda\")\n",
        "print(tensor_gpu)"
      ],
      "metadata": {
        "colab": {
          "base_uri": "https://localhost:8080/"
        },
        "id": "8ovAaAUTPge_",
        "outputId": "d1fafc2a-599f-497e-c35b-44cc9faa09f5"
      },
      "execution_count": 101,
      "outputs": [
        {
          "output_type": "stream",
          "name": "stdout",
          "text": [
            "tensor([[52,  5, 98],\n",
            "        [92, 43, 40],\n",
            "        [20, 90, 28]], device='cuda:0')\n"
          ]
        }
      ]
    },
    {
      "cell_type": "code",
      "execution_count": 102,
      "metadata": {
        "id": "HP9Hh2TdrBoo"
      },
      "outputs": [],
      "source": [
        "# Verify if the tensor is on GPU.\n",
        "# Move the tensor back to CPU."
      ]
    },
    {
      "cell_type": "code",
      "source": [
        "print(\"Tensor on device:\", tensor_gpu.device)"
      ],
      "metadata": {
        "colab": {
          "base_uri": "https://localhost:8080/"
        },
        "id": "ZOG8bUxbOQXm",
        "outputId": "f584b355-61ef-4a24-df53-a08f892a7e8d"
      },
      "execution_count": 103,
      "outputs": [
        {
          "output_type": "stream",
          "name": "stdout",
          "text": [
            "Tensor on device: cuda:0\n"
          ]
        }
      ]
    },
    {
      "cell_type": "code",
      "source": [
        "tensor_cpu = tensor_gpu.to(\"cpu\")\n",
        "print(\"Tensor on device:\", tensor_cpu.device)\n",
        "print(tensor_cpu)\n"
      ],
      "metadata": {
        "colab": {
          "base_uri": "https://localhost:8080/"
        },
        "id": "BbGHPGTiOdAD",
        "outputId": "76a6c71e-b389-4bd0-8cf4-037a58354309"
      },
      "execution_count": 104,
      "outputs": [
        {
          "output_type": "stream",
          "name": "stdout",
          "text": [
            "Tensor on device: cpu\n",
            "tensor([[52,  5, 98],\n",
            "        [92, 43, 40],\n",
            "        [20, 90, 28]])\n"
          ]
        }
      ]
    },
    {
      "cell_type": "markdown",
      "metadata": {
        "id": "BCUKfYRGrBoo"
      },
      "source": [
        "# 8. Tensor Cloning and Detaching"
      ]
    },
    {
      "cell_type": "code",
      "execution_count": 105,
      "metadata": {
        "id": "uzXHqTF-rBop"
      },
      "outputs": [],
      "source": [
        "# Create a tensor tensor of shape (3,) with values [1, 2, 3] and set requires_grad=True."
      ]
    },
    {
      "cell_type": "code",
      "source": [
        "tensor_x = torch.tensor([1, 2, 3], dtype=torch.float32, requires_grad=True)\n",
        "print(tensor_x)"
      ],
      "metadata": {
        "colab": {
          "base_uri": "https://localhost:8080/"
        },
        "id": "mCVoh5OyPtZz",
        "outputId": "947ae117-17e6-49e8-c04b-47405dc22097"
      },
      "execution_count": 106,
      "outputs": [
        {
          "output_type": "stream",
          "name": "stdout",
          "text": [
            "tensor([1., 2., 3.], requires_grad=True)\n"
          ]
        }
      ]
    },
    {
      "cell_type": "code",
      "execution_count": 107,
      "metadata": {
        "id": "kkF-NrH8rBop"
      },
      "outputs": [],
      "source": [
        "# Clone the tensor and print the cloned tensor."
      ]
    },
    {
      "cell_type": "code",
      "source": [
        "cloned_tensor = tensor_x.clone()\n",
        "print(\"Cloned Tensor:\", cloned_tensor)"
      ],
      "metadata": {
        "colab": {
          "base_uri": "https://localhost:8080/"
        },
        "id": "Tis0s-E_QIBL",
        "outputId": "c9687be3-1c00-406a-bf46-5b5a0eef2d26"
      },
      "execution_count": 108,
      "outputs": [
        {
          "output_type": "stream",
          "name": "stdout",
          "text": [
            "Cloned Tensor: tensor([1., 2., 3.], grad_fn=<CloneBackward0>)\n"
          ]
        }
      ]
    },
    {
      "cell_type": "code",
      "execution_count": 109,
      "metadata": {
        "id": "45yyyo9JrBop"
      },
      "outputs": [],
      "source": [
        "# Detach the tensor from the computation graph and print the detached tensor."
      ]
    },
    {
      "cell_type": "code",
      "source": [
        "detached_tensor = tensor_x.detach()\n",
        "print(\"Detached Tensor:\", detached_tensor)"
      ],
      "metadata": {
        "colab": {
          "base_uri": "https://localhost:8080/"
        },
        "id": "4B7x2mS1QRgW",
        "outputId": "a9fcf542-0961-483b-9106-5f02dab71126"
      },
      "execution_count": 110,
      "outputs": [
        {
          "output_type": "stream",
          "name": "stdout",
          "text": [
            "Detached Tensor: tensor([1., 2., 3.])\n"
          ]
        }
      ]
    },
    {
      "cell_type": "markdown",
      "metadata": {
        "id": "LC_MsQCbrBop"
      },
      "source": [
        "# 9. High Dimensional Tensors"
      ]
    },
    {
      "cell_type": "code",
      "execution_count": 111,
      "metadata": {
        "id": "79KVDZZYrBop"
      },
      "outputs": [],
      "source": [
        "# Create a 4D tensor tensor of shape (2, 3, 4, 5) with random values."
      ]
    },
    {
      "cell_type": "code",
      "source": [
        "tensor_4d = torch.randint(1000,(2, 3, 4, 5))\n",
        "print(tensor_4d)"
      ],
      "metadata": {
        "colab": {
          "base_uri": "https://localhost:8080/"
        },
        "id": "3jMBYHMpQn2T",
        "outputId": "358db308-7e87-4e88-eca8-bce652063c2d"
      },
      "execution_count": 112,
      "outputs": [
        {
          "output_type": "stream",
          "name": "stdout",
          "text": [
            "tensor([[[[780, 977, 134, 682, 870],\n",
            "          [510, 486, 915, 317, 803],\n",
            "          [950,   0,  61, 905,  22],\n",
            "          [815, 689, 867,  12, 475]],\n",
            "\n",
            "         [[139, 662, 310, 246,  90],\n",
            "          [489, 527, 350,  11, 288],\n",
            "          [226, 243, 241, 655, 620],\n",
            "          [956, 918, 392, 935, 114]],\n",
            "\n",
            "         [[231,  88, 965,  94, 986],\n",
            "          [565, 323, 279,  61, 419],\n",
            "          [972, 459, 962, 439, 443],\n",
            "          [927, 695, 256, 355, 778]]],\n",
            "\n",
            "\n",
            "        [[[758, 750, 887, 997, 101],\n",
            "          [186, 191, 232, 596, 106],\n",
            "          [ 66, 120, 309, 604, 723],\n",
            "          [652, 656, 871, 456, 968]],\n",
            "\n",
            "         [[  2, 938, 263, 855, 402],\n",
            "          [136, 928, 781, 160,  85],\n",
            "          [115, 403, 171, 676,  48],\n",
            "          [988, 258, 765, 829, 749]],\n",
            "\n",
            "         [[710, 129, 101, 919,  36],\n",
            "          [669, 211, 577, 851, 442],\n",
            "          [986, 953, 161, 868, 133],\n",
            "          [ 45, 293, 541, 251, 276]]]])\n"
          ]
        }
      ]
    },
    {
      "cell_type": "code",
      "execution_count": 113,
      "metadata": {
        "id": "l9ysjEDZrBop"
      },
      "outputs": [],
      "source": [
        "# Print the shape of the tensor."
      ]
    },
    {
      "cell_type": "code",
      "source": [
        "print(tensor_4d.shape)"
      ],
      "metadata": {
        "colab": {
          "base_uri": "https://localhost:8080/"
        },
        "id": "AjjnrBPKQ7Az",
        "outputId": "2adb47d3-6358-433c-94d2-64f32f99a439"
      },
      "execution_count": 114,
      "outputs": [
        {
          "output_type": "stream",
          "name": "stdout",
          "text": [
            "torch.Size([2, 3, 4, 5])\n"
          ]
        }
      ]
    },
    {
      "cell_type": "code",
      "execution_count": 115,
      "metadata": {
        "id": "SUTKvVQHrBop"
      },
      "outputs": [],
      "source": [
        "# Access the element at position (1, 2, 3, 4)."
      ]
    },
    {
      "cell_type": "code",
      "source": [
        "print(\"Element at position (1, 2, 3, 4): \", tensor_4d[1,2,3,4])"
      ],
      "metadata": {
        "colab": {
          "base_uri": "https://localhost:8080/"
        },
        "id": "inkXMLdCRBbj",
        "outputId": "df606285-4ed2-455a-a436-04b989c14d93"
      },
      "execution_count": 116,
      "outputs": [
        {
          "output_type": "stream",
          "name": "stdout",
          "text": [
            "Element at position (1, 2, 3, 4):  tensor(276)\n"
          ]
        }
      ]
    },
    {
      "cell_type": "code",
      "execution_count": 117,
      "metadata": {
        "id": "aRzT8c1IrBop"
      },
      "outputs": [],
      "source": [
        "# Slice and print the first two elements along the first dimension."
      ]
    },
    {
      "cell_type": "code",
      "source": [
        "sliced = tensor_4d[:2]\n",
        "print(\"Sliced Tensor (first two elements along dim 0):\\n\", sliced)"
      ],
      "metadata": {
        "colab": {
          "base_uri": "https://localhost:8080/"
        },
        "id": "X7qYrLeNSOOX",
        "outputId": "d4435128-2e7b-476f-e091-679cea00e8c1"
      },
      "execution_count": 118,
      "outputs": [
        {
          "output_type": "stream",
          "name": "stdout",
          "text": [
            "Sliced Tensor (first two elements along dim 0):\n",
            " tensor([[[[780, 977, 134, 682, 870],\n",
            "          [510, 486, 915, 317, 803],\n",
            "          [950,   0,  61, 905,  22],\n",
            "          [815, 689, 867,  12, 475]],\n",
            "\n",
            "         [[139, 662, 310, 246,  90],\n",
            "          [489, 527, 350,  11, 288],\n",
            "          [226, 243, 241, 655, 620],\n",
            "          [956, 918, 392, 935, 114]],\n",
            "\n",
            "         [[231,  88, 965,  94, 986],\n",
            "          [565, 323, 279,  61, 419],\n",
            "          [972, 459, 962, 439, 443],\n",
            "          [927, 695, 256, 355, 778]]],\n",
            "\n",
            "\n",
            "        [[[758, 750, 887, 997, 101],\n",
            "          [186, 191, 232, 596, 106],\n",
            "          [ 66, 120, 309, 604, 723],\n",
            "          [652, 656, 871, 456, 968]],\n",
            "\n",
            "         [[  2, 938, 263, 855, 402],\n",
            "          [136, 928, 781, 160,  85],\n",
            "          [115, 403, 171, 676,  48],\n",
            "          [988, 258, 765, 829, 749]],\n",
            "\n",
            "         [[710, 129, 101, 919,  36],\n",
            "          [669, 211, 577, 851, 442],\n",
            "          [986, 953, 161, 868, 133],\n",
            "          [ 45, 293, 541, 251, 276]]]])\n"
          ]
        }
      ]
    },
    {
      "cell_type": "markdown",
      "source": [
        "**sliced result is identical to the original tensor**"
      ],
      "metadata": {
        "id": "TaHxqlApTVTl"
      }
    },
    {
      "cell_type": "code",
      "execution_count": 119,
      "metadata": {
        "id": "aRu9L2uYrBop"
      },
      "outputs": [],
      "source": [
        "# Sum all elements in the tensor."
      ]
    },
    {
      "cell_type": "code",
      "source": [
        "total_sum = tensor_4d.sum()\n",
        "print(\"Sum of all elements:\", total_sum.item())\n"
      ],
      "metadata": {
        "colab": {
          "base_uri": "https://localhost:8080/"
        },
        "id": "Yn3v2lCKTkz6",
        "outputId": "909619e1-be74-422e-ced0-36c4846468c6"
      },
      "execution_count": 120,
      "outputs": [
        {
          "output_type": "stream",
          "name": "stdout",
          "text": [
            "Sum of all elements: 58912\n"
          ]
        }
      ]
    },
    {
      "cell_type": "code",
      "execution_count": 121,
      "metadata": {
        "id": "T1RRaaqtrBop"
      },
      "outputs": [],
      "source": [
        "# Compute the mean along the third dimension."
      ]
    },
    {
      "cell_type": "code",
      "source": [
        "mean_dim3 = tensor_4d.float().mean(dim=2)\n",
        "print(\"Mean along third dimension:\\n\", mean_dim3)\n"
      ],
      "metadata": {
        "colab": {
          "base_uri": "https://localhost:8080/"
        },
        "id": "2I_puwIFTlO-",
        "outputId": "3413ab24-a881-426b-d1ea-11c29ba05131"
      },
      "execution_count": 122,
      "outputs": [
        {
          "output_type": "stream",
          "name": "stdout",
          "text": [
            "Mean along third dimension:\n",
            " tensor([[[763.7500, 538.0000, 494.2500, 479.0000, 542.5000],\n",
            "         [452.5000, 587.5000, 323.2500, 461.7500, 278.0000],\n",
            "         [673.7500, 391.2500, 615.5000, 237.2500, 656.5000]],\n",
            "\n",
            "        [[415.5000, 429.2500, 574.7500, 663.2500, 474.5000],\n",
            "         [310.2500, 631.7500, 495.0000, 630.0000, 321.0000],\n",
            "         [602.5000, 396.5000, 345.0000, 722.2500, 221.7500]]])\n"
          ]
        }
      ]
    },
    {
      "cell_type": "markdown",
      "metadata": {
        "id": "A1WxD11urBop"
      },
      "source": [
        "# 10. Combining Tensor Operations"
      ]
    },
    {
      "cell_type": "code",
      "execution_count": 123,
      "metadata": {
        "id": "qivNHWQbrBop"
      },
      "outputs": [],
      "source": [
        "# Create two tensors tensor_a and tensor_b of shape (2, 3, 4) with random values."
      ]
    },
    {
      "cell_type": "code",
      "source": [
        "tensor_a = torch.randint(100, (2, 3, 4))\n",
        "tensor_b = torch.randint(100,(2, 3, 4))\n",
        "\n",
        "print(\"Tensor A:\\n\", tensor_a)\n",
        "print(\"Tensor B:\\n\", tensor_b)\n"
      ],
      "metadata": {
        "colab": {
          "base_uri": "https://localhost:8080/"
        },
        "id": "Pv3_FsWyT1Gx",
        "outputId": "db76c618-abec-4133-cc90-e6a1300ac325"
      },
      "execution_count": 124,
      "outputs": [
        {
          "output_type": "stream",
          "name": "stdout",
          "text": [
            "Tensor A:\n",
            " tensor([[[50, 71, 82, 20],\n",
            "         [31, 21, 23,  7],\n",
            "         [23, 29, 84, 12]],\n",
            "\n",
            "        [[53, 42, 53,  0],\n",
            "         [ 9, 48, 20, 69],\n",
            "         [12, 70, 35, 43]]])\n",
            "Tensor B:\n",
            " tensor([[[44, 56, 58, 46],\n",
            "         [14, 26, 10, 65],\n",
            "         [10, 87, 45, 90]],\n",
            "\n",
            "        [[85, 60, 87, 38],\n",
            "         [83, 39, 31, 63],\n",
            "         [80, 53, 61,  6]]])\n"
          ]
        }
      ]
    },
    {
      "cell_type": "code",
      "execution_count": 125,
      "metadata": {
        "id": "yD_Irn66rBop"
      },
      "outputs": [],
      "source": [
        "# Add the two tensors."
      ]
    },
    {
      "cell_type": "code",
      "source": [
        "tensor_add = torch.add(tensor_a, tensor_b)\n",
        "print(\"Addition of tensor_a and tensor_b: \",tensor_add)"
      ],
      "metadata": {
        "colab": {
          "base_uri": "https://localhost:8080/"
        },
        "id": "aCIEyBgpT1w8",
        "outputId": "828044a6-0657-42bd-ba6e-363cd7c47612"
      },
      "execution_count": 126,
      "outputs": [
        {
          "output_type": "stream",
          "name": "stdout",
          "text": [
            "Addition of tensor_a and tensor_b:  tensor([[[ 94, 127, 140,  66],\n",
            "         [ 45,  47,  33,  72],\n",
            "         [ 33, 116, 129, 102]],\n",
            "\n",
            "        [[138, 102, 140,  38],\n",
            "         [ 92,  87,  51, 132],\n",
            "         [ 92, 123,  96,  49]]])\n"
          ]
        }
      ]
    },
    {
      "cell_type": "code",
      "execution_count": 127,
      "metadata": {
        "id": "IbAxo4WDrBop"
      },
      "outputs": [],
      "source": [
        "# Multiply the resulting tensor by 2."
      ]
    },
    {
      "cell_type": "code",
      "source": [
        "tensor_mul = torch.mul(tensor_a, tensor_b)\n",
        "print(\"Multiplication of tensor_a and tensor_b: \",tensor_mul)"
      ],
      "metadata": {
        "colab": {
          "base_uri": "https://localhost:8080/"
        },
        "id": "gJffUcnsT2aD",
        "outputId": "68f2b963-0d07-485f-f973-dff0d9afd584"
      },
      "execution_count": 128,
      "outputs": [
        {
          "output_type": "stream",
          "name": "stdout",
          "text": [
            "Multiplication of tensor_a and tensor_b:  tensor([[[2200, 3976, 4756,  920],\n",
            "         [ 434,  546,  230,  455],\n",
            "         [ 230, 2523, 3780, 1080]],\n",
            "\n",
            "        [[4505, 2520, 4611,    0],\n",
            "         [ 747, 1872,  620, 4347],\n",
            "         [ 960, 3710, 2135,  258]]])\n"
          ]
        }
      ]
    },
    {
      "cell_type": "code",
      "execution_count": 129,
      "metadata": {
        "id": "2v03XPplrBop"
      },
      "outputs": [],
      "source": [
        "# Reshape the tensor to (4, 6)."
      ]
    },
    {
      "cell_type": "code",
      "source": [
        "print(\"tensor_mul shape: \", tensor_mul.shape)\n",
        "tensor_reshaped = tensor_mul.reshape(4,6)\n",
        "print(\"tensor_reshaped shape: \", tensor_reshaped.shape)\n"
      ],
      "metadata": {
        "colab": {
          "base_uri": "https://localhost:8080/"
        },
        "id": "K9fRBOhRT24b",
        "outputId": "e83be0fd-ccbb-484f-fcb5-670fd81927f7"
      },
      "execution_count": 130,
      "outputs": [
        {
          "output_type": "stream",
          "name": "stdout",
          "text": [
            "tensor_mul shape:  torch.Size([2, 3, 4])\n",
            "tensor_reshaped shape:  torch.Size([4, 6])\n"
          ]
        }
      ]
    },
    {
      "cell_type": "code",
      "execution_count": 131,
      "metadata": {
        "id": "WB31v0FDrBop"
      },
      "outputs": [],
      "source": [
        "# Compute the sum along the columns."
      ]
    },
    {
      "cell_type": "code",
      "source": [
        "# Sum along columns (i.e., across rows → dim=0)\n",
        "column_sum = tensor_reshaped.sum(dim=0)\n",
        "\n",
        "print(\"Sum along columns: \", column_sum)"
      ],
      "metadata": {
        "colab": {
          "base_uri": "https://localhost:8080/"
        },
        "id": "xWM5KpRqT3me",
        "outputId": "7007f1e8-22f0-4dda-cc6d-361b54ea5293"
      },
      "execution_count": 132,
      "outputs": [
        {
          "output_type": "stream",
          "name": "stdout",
          "text": [
            "Sum along columns:  tensor([ 7555, 11298, 10557,  7153,  7096,  3756])\n"
          ]
        }
      ]
    },
    {
      "cell_type": "markdown",
      "metadata": {
        "id": "BPJPyj-XrBop"
      },
      "source": [
        "-------------------------------------------- END ----------------------------------------------"
      ]
    }
  ],
  "metadata": {
    "kernelspec": {
      "display_name": "Python 3",
      "name": "python3"
    },
    "language_info": {
      "codemirror_mode": {
        "name": "ipython",
        "version": 3
      },
      "file_extension": ".py",
      "mimetype": "text/x-python",
      "name": "python",
      "nbconvert_exporter": "python",
      "pygments_lexer": "ipython3",
      "version": "3.10.14"
    },
    "colab": {
      "provenance": [],
      "gpuType": "T4"
    },
    "accelerator": "GPU"
  },
  "nbformat": 4,
  "nbformat_minor": 0
}