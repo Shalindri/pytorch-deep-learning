{
  "cells": [
    {
      "cell_type": "code",
      "execution_count": null,
      "metadata": {
        "id": "C_36UVVzrBol"
      },
      "outputs": [],
      "source": [
        "# Sumani\n",
        "# 22-7-2024"
      ]
    },
    {
      "cell_type": "markdown",
      "metadata": {
        "id": "4AhWkrlqrBom"
      },
      "source": [
        "# Tensor Exercises"
      ]
    },
    {
      "cell_type": "markdown",
      "metadata": {
        "id": "DcPb9sVarBom"
      },
      "source": [
        "# 1. Tensor Creation"
      ]
    },
    {
      "cell_type": "code",
      "source": [
        "import torch"
      ],
      "metadata": {
        "id": "BQRAnohsyRdc"
      },
      "execution_count": 2,
      "outputs": []
    },
    {
      "cell_type": "code",
      "execution_count": 4,
      "metadata": {
        "id": "iRnqztZErBom"
      },
      "outputs": [],
      "source": [
        "# Create a tensor of shape (2, 4) filled with ones."
      ]
    },
    {
      "cell_type": "code",
      "source": [
        "one_t = torch.ones((2, 4))\n",
        "print(one_t)"
      ],
      "metadata": {
        "colab": {
          "base_uri": "https://localhost:8080/"
        },
        "id": "QTz5g3SvtPHZ",
        "outputId": "bd407b2e-5802-4b03-e22b-562803cc5043"
      },
      "execution_count": 6,
      "outputs": [
        {
          "output_type": "stream",
          "name": "stdout",
          "text": [
            "tensor([[1., 1., 1., 1.],\n",
            "        [1., 1., 1., 1.]])\n"
          ]
        }
      ]
    },
    {
      "cell_type": "code",
      "execution_count": null,
      "metadata": {
        "id": "epyHY8EPrBom"
      },
      "outputs": [],
      "source": [
        "# Create a tensor of shape (5, 3) filled with random values."
      ]
    },
    {
      "cell_type": "code",
      "source": [
        "random_t = torch.rand((5, 3))\n",
        "print(random_t)"
      ],
      "metadata": {
        "colab": {
          "base_uri": "https://localhost:8080/"
        },
        "id": "182hfE1ky7l-",
        "outputId": "8af2ab02-1d11-4a57-f04c-aa61ffbd9b92"
      },
      "execution_count": 10,
      "outputs": [
        {
          "output_type": "stream",
          "name": "stdout",
          "text": [
            "tensor([[0.4634, 0.9978, 0.9005],\n",
            "        [0.0970, 0.3756, 0.1402],\n",
            "        [0.8521, 0.2165, 0.3525],\n",
            "        [0.4548, 0.5381, 0.2697],\n",
            "        [0.4772, 0.4799, 0.3825]])\n"
          ]
        }
      ]
    },
    {
      "cell_type": "code",
      "execution_count": null,
      "metadata": {
        "id": "kc8Da75KrBon"
      },
      "outputs": [],
      "source": [
        "# Create a tensor from a list [5, 10, 15, 20]."
      ]
    },
    {
      "cell_type": "code",
      "source": [
        "list_t = torch.tensor([5,10,15,20])\n",
        "print(list_t)"
      ],
      "metadata": {
        "colab": {
          "base_uri": "https://localhost:8080/"
        },
        "id": "xvnm8x713FGm",
        "outputId": "2839b812-6246-45c7-8a39-bcaf6767704f"
      },
      "execution_count": 12,
      "outputs": [
        {
          "output_type": "stream",
          "name": "stdout",
          "text": [
            "tensor([ 5, 10, 15, 20])\n"
          ]
        }
      ]
    },
    {
      "cell_type": "code",
      "execution_count": null,
      "metadata": {
        "id": "0Xdt5uGprBon"
      },
      "outputs": [],
      "source": [
        "# Create a tensor to represent an image that has width of 8, height of 6, and 3 channels."
      ]
    },
    {
      "cell_type": "code",
      "source": [
        "# rows = height = 6\n",
        "# coulms = width = 8\n",
        "# Channels = RGB\n",
        "\n",
        "image_t = torch.rand(3,6,8)\n",
        "print(image_t)"
      ],
      "metadata": {
        "colab": {
          "base_uri": "https://localhost:8080/"
        },
        "id": "k-KhuYTn3ggX",
        "outputId": "ec8646fe-aa47-4f4e-b339-4c3ef0b2e2e1"
      },
      "execution_count": 17,
      "outputs": [
        {
          "output_type": "stream",
          "name": "stdout",
          "text": [
            "tensor([[[5.4488e-01, 5.8493e-01, 6.2084e-01, 6.7044e-01, 7.3666e-02,\n",
            "          5.2384e-01, 1.3389e-01, 7.7757e-01],\n",
            "         [9.2188e-01, 7.7385e-01, 9.2564e-01, 1.5287e-01, 8.7565e-01,\n",
            "          6.1252e-01, 9.3934e-01, 7.4349e-02],\n",
            "         [4.2523e-01, 3.8157e-01, 7.4506e-01, 1.1826e-01, 2.3307e-01,\n",
            "          4.6049e-01, 4.0529e-01, 2.7416e-01],\n",
            "         [4.8106e-01, 6.0133e-01, 1.2200e-01, 4.3767e-02, 1.5502e-01,\n",
            "          1.2956e-01, 4.3354e-01, 5.9224e-01],\n",
            "         [6.0220e-01, 2.4928e-02, 9.7615e-01, 6.0335e-01, 3.1997e-01,\n",
            "          6.4643e-01, 8.0699e-01, 8.8137e-01],\n",
            "         [7.1784e-01, 1.6565e-01, 1.3044e-01, 9.8919e-01, 3.9209e-02,\n",
            "          5.4218e-01, 6.7130e-01, 1.9324e-01]],\n",
            "\n",
            "        [[2.9037e-01, 3.8646e-01, 9.7543e-01, 6.5223e-01, 3.8586e-01,\n",
            "          4.9153e-01, 2.0172e-01, 1.4991e-01],\n",
            "         [7.1383e-02, 5.5062e-01, 8.0799e-01, 2.8153e-01, 7.3645e-01,\n",
            "          4.0065e-01, 3.4036e-01, 1.7993e-01],\n",
            "         [4.5781e-02, 2.1953e-01, 6.7736e-02, 4.5039e-01, 7.0366e-01,\n",
            "          5.2630e-01, 2.2527e-01, 1.2639e-01],\n",
            "         [8.1705e-01, 3.9944e-01, 3.3608e-01, 8.8394e-01, 7.4146e-01,\n",
            "          7.4368e-01, 2.3945e-01, 6.9386e-02],\n",
            "         [4.1307e-02, 6.3196e-01, 7.9159e-01, 8.4321e-01, 1.2800e-02,\n",
            "          4.9262e-01, 2.8054e-02, 5.8579e-04],\n",
            "         [1.4316e-01, 9.9354e-01, 7.1232e-01, 9.2042e-01, 2.5048e-01,\n",
            "          8.1198e-01, 7.4730e-01, 5.0264e-01]],\n",
            "\n",
            "        [[4.5189e-01, 1.4806e-01, 4.2763e-02, 7.9570e-02, 8.7550e-01,\n",
            "          9.8709e-01, 7.3189e-02, 1.5517e-01],\n",
            "         [4.2975e-01, 3.5563e-01, 5.9419e-01, 2.9350e-01, 8.9626e-01,\n",
            "          1.9138e-01, 7.6746e-01, 9.8202e-01],\n",
            "         [2.2299e-01, 1.6420e-01, 7.3730e-02, 1.0552e-01, 8.6369e-01,\n",
            "          7.9561e-01, 1.9764e-01, 3.4157e-01],\n",
            "         [5.3986e-01, 4.8368e-01, 4.1618e-01, 6.2452e-01, 1.4765e-01,\n",
            "          2.6178e-01, 9.4469e-01, 6.7206e-01],\n",
            "         [9.2749e-01, 5.4545e-01, 9.5144e-01, 5.9961e-01, 6.5612e-01,\n",
            "          9.1401e-01, 9.6591e-02, 1.4399e-01],\n",
            "         [5.4459e-01, 9.0597e-01, 3.7992e-01, 9.7407e-01, 3.4977e-01,\n",
            "          5.1777e-01, 9.4886e-01, 9.1496e-01]]])\n"
          ]
        }
      ]
    },
    {
      "cell_type": "markdown",
      "metadata": {
        "id": "57H3xN7erBon"
      },
      "source": [
        "# 2. Tensor Indexing and Slicing"
      ]
    },
    {
      "cell_type": "code",
      "execution_count": null,
      "metadata": {
        "id": "I6v5rPDurBon"
      },
      "outputs": [],
      "source": [
        "# Create a tensor tensor of shape (3, 4) with values ranging from 10 to 22.\n"
      ]
    },
    {
      "cell_type": "code",
      "source": [
        "t_range = torch.arange(10, 22).reshape(3, 4)\n",
        "print(t_range)"
      ],
      "metadata": {
        "colab": {
          "base_uri": "https://localhost:8080/"
        },
        "id": "KOoOxo4Q587l",
        "outputId": "bfd62fee-65e1-4813-f275-61d6bbebf7ee"
      },
      "execution_count": 19,
      "outputs": [
        {
          "output_type": "stream",
          "name": "stdout",
          "text": [
            "tensor([[10, 11, 12, 13],\n",
            "        [14, 15, 16, 17],\n",
            "        [18, 19, 20, 21]])\n"
          ]
        }
      ]
    },
    {
      "cell_type": "code",
      "execution_count": null,
      "metadata": {
        "id": "7zKu_ewQrBon"
      },
      "outputs": [],
      "source": [
        "# Access the element at the second row, third column."
      ]
    },
    {
      "cell_type": "code",
      "source": [
        "# Index for the n-th position is always n-1 due to zero-based indexing\n",
        "\n",
        "print(\"Element at the 2nd row, 3rd column: \", t_range[1,2])"
      ],
      "metadata": {
        "colab": {
          "base_uri": "https://localhost:8080/"
        },
        "id": "jvl60eeX6rRV",
        "outputId": "e0915e7b-1337-46e6-d5f7-bcae4178c759"
      },
      "execution_count": 27,
      "outputs": [
        {
          "output_type": "stream",
          "name": "stdout",
          "text": [
            "Element at the 2nd row, 3rd column:  tensor(16)\n"
          ]
        }
      ]
    },
    {
      "cell_type": "code",
      "execution_count": null,
      "metadata": {
        "id": "yk1KmRNHrBon"
      },
      "outputs": [],
      "source": [
        "# Print the second row."
      ]
    },
    {
      "cell_type": "code",
      "source": [
        "print(\"2nd row: \", t_range[1])"
      ],
      "metadata": {
        "colab": {
          "base_uri": "https://localhost:8080/"
        },
        "id": "wahKy7cz8B2B",
        "outputId": "8a5caf3e-fae2-4364-ecc2-3f270fd22e5b"
      },
      "execution_count": 28,
      "outputs": [
        {
          "output_type": "stream",
          "name": "stdout",
          "text": [
            "2nd row:  tensor([14, 15, 16, 17])\n"
          ]
        }
      ]
    },
    {
      "cell_type": "code",
      "execution_count": null,
      "metadata": {
        "id": "H6JmvlJArBon"
      },
      "outputs": [],
      "source": [
        "# Print the first two columns."
      ]
    },
    {
      "cell_type": "code",
      "source": [
        "#: selects all rows\n",
        "#:2 selects columns at index 0 and 1 (the first two columns)\n",
        "\n",
        "print(\"First two columns: \",t_range[:,:2])"
      ],
      "metadata": {
        "colab": {
          "base_uri": "https://localhost:8080/"
        },
        "id": "VQfl83IR8MYH",
        "outputId": "dea699e9-47cf-426b-bec4-9b3c87ee53f6"
      },
      "execution_count": 31,
      "outputs": [
        {
          "output_type": "stream",
          "name": "stdout",
          "text": [
            "First two columns:  tensor([[10, 11],\n",
            "        [14, 15],\n",
            "        [18, 19]])\n"
          ]
        }
      ]
    },
    {
      "cell_type": "markdown",
      "metadata": {
        "id": "zVeU-Rg-rBon"
      },
      "source": [
        "# 3. Tensor Arithmetic Operations"
      ]
    },
    {
      "cell_type": "code",
      "execution_count": null,
      "metadata": {
        "id": "KP1LlIkrrBon"
      },
      "outputs": [],
      "source": [
        "# Create two tensors tensor_a and tensor_b of shape (3, 3) with random values."
      ]
    },
    {
      "cell_type": "code",
      "source": [
        "tensor_a = torch.randint(1,100,(3,3))\n",
        "tensor_b = torch.randint(1,100,(3,3))\n",
        "\n",
        "\n",
        "print(\"Tensor A:\\n\", tensor_a)\n",
        "print(\"Tensor B:\\n\", tensor_b)"
      ],
      "metadata": {
        "colab": {
          "base_uri": "https://localhost:8080/"
        },
        "id": "ph0SQOzU1bs6",
        "outputId": "9877955e-e002-432e-a992-77d3cadd3705"
      },
      "execution_count": 10,
      "outputs": [
        {
          "output_type": "stream",
          "name": "stdout",
          "text": [
            "Tensor A:\n",
            " tensor([[61, 19, 25],\n",
            "        [44, 57,  1],\n",
            "        [19, 78, 36]])\n",
            "Tensor B:\n",
            " tensor([[38,  3,  7],\n",
            "        [19, 44, 35],\n",
            "        [95, 74, 97]])\n"
          ]
        }
      ]
    },
    {
      "cell_type": "code",
      "execution_count": null,
      "metadata": {
        "id": "4ciVEFUPrBon"
      },
      "outputs": [],
      "source": [
        "# Perform element-wise addition."
      ]
    },
    {
      "cell_type": "code",
      "source": [
        "tensor_add = tensor_a + tensor_b\n",
        "print(\"tensor_a + tensor_b = \\n \", tensor_add)\n",
        "\n",
        "tensor_add_2= torch.add(tensor_a, tensor_b)\n",
        "\n",
        "print(\"tensor_a + tensor_b = \\n \", tensor_add_2)\n"
      ],
      "metadata": {
        "colab": {
          "base_uri": "https://localhost:8080/"
        },
        "id": "AIE_8vTZ1cSn",
        "outputId": "cb71dc60-4827-4b6f-8c53-f838a216b775"
      },
      "execution_count": 18,
      "outputs": [
        {
          "output_type": "stream",
          "name": "stdout",
          "text": [
            "tensor_a + tensor_b = \n",
            "  tensor([[ 99,  22,  32],\n",
            "        [ 63, 101,  36],\n",
            "        [114, 152, 133]])\n",
            "tensor_a + tensor_b = \n",
            "  tensor([[ 99,  22,  32],\n",
            "        [ 63, 101,  36],\n",
            "        [114, 152, 133]])\n"
          ]
        }
      ]
    },
    {
      "cell_type": "code",
      "execution_count": null,
      "metadata": {
        "id": "Em202S4RrBon"
      },
      "outputs": [],
      "source": [
        "# Perform element-wise multiplication."
      ]
    },
    {
      "cell_type": "code",
      "source": [
        "tensor_mul = tensor_a * tensor_b\n",
        "print(\"tensor_a x tensor_b = \\n \", tensor_mul)\n",
        "\n",
        "tensor_mul_2= torch.mul(tensor_a, tensor_b)\n",
        "print(\"tensor_a x tensor_b = \\n \", tensor_mul_2)\n",
        "\n",
        "\n",
        "tensor_mul_3= torch.multiply(tensor_a, tensor_b)\n",
        "print(\"tensor_a x tensor_b = \\n \", tensor_mul_3)"
      ],
      "metadata": {
        "colab": {
          "base_uri": "https://localhost:8080/"
        },
        "id": "MRe4xNE31c1S",
        "outputId": "656f6433-bff5-4e77-f6e8-6d66c2aecdfd"
      },
      "execution_count": 21,
      "outputs": [
        {
          "output_type": "stream",
          "name": "stdout",
          "text": [
            "tensor_a x tensor_b = \n",
            "  tensor([[2318,   57,  175],\n",
            "        [ 836, 2508,   35],\n",
            "        [1805, 5772, 3492]])\n",
            "tensor_a x tensor_b = \n",
            "  tensor([[2318,   57,  175],\n",
            "        [ 836, 2508,   35],\n",
            "        [1805, 5772, 3492]])\n",
            "tensor_a x tensor_b = \n",
            "  tensor([[2318,   57,  175],\n",
            "        [ 836, 2508,   35],\n",
            "        [1805, 5772, 3492]])\n"
          ]
        }
      ]
    },
    {
      "cell_type": "code",
      "execution_count": null,
      "metadata": {
        "id": "GPTyPOB0rBon"
      },
      "outputs": [],
      "source": [
        "# Subtract tensor_b from tensor_a."
      ]
    },
    {
      "cell_type": "code",
      "source": [
        "tensor_sub = tensor_a - tensor_b\n",
        "print(\"tensor_a - tensor_b = \\n \", tensor_sub)\n",
        "\n",
        "tensor_sub_2= torch.sub(tensor_a, tensor_b)\n",
        "\n",
        "print(\"tensor_a - tensor_b = \\n \", tensor_sub_2)"
      ],
      "metadata": {
        "colab": {
          "base_uri": "https://localhost:8080/"
        },
        "id": "ZMvvvN551dnQ",
        "outputId": "fb6b26d3-60d2-4777-c0c2-55df768f5084"
      },
      "execution_count": 23,
      "outputs": [
        {
          "output_type": "stream",
          "name": "stdout",
          "text": [
            "tensor_a - tensor_b = \n",
            "  tensor([[ 23,  16,  18],\n",
            "        [ 25,  13, -34],\n",
            "        [-76,   4, -61]])\n",
            "tensor_a - tensor_b = \n",
            "  tensor([[ 23,  16,  18],\n",
            "        [ 25,  13, -34],\n",
            "        [-76,   4, -61]])\n"
          ]
        }
      ]
    },
    {
      "cell_type": "markdown",
      "metadata": {
        "id": "wMA2dJ9DrBon"
      },
      "source": [
        "# 4. Tensor Aggregation Operations"
      ]
    },
    {
      "cell_type": "code",
      "execution_count": null,
      "metadata": {
        "id": "h7YcdBFerBon"
      },
      "outputs": [],
      "source": [
        "# Create a tensor tensor of shape (3, 3) with values ranging from 1 to 9."
      ]
    },
    {
      "cell_type": "code",
      "source": [
        "tensor_agg = torch.arange(1, 10).reshape(3, 3)\n",
        "\n",
        "print(\"tensor of shape (3, 3) with values ranging from 1 to 9: \\n\", tensor_agg)"
      ],
      "metadata": {
        "colab": {
          "base_uri": "https://localhost:8080/"
        },
        "id": "B6gX94eR9mbJ",
        "outputId": "129a7bbd-82c8-42e4-cecc-67c17ec7614e"
      },
      "execution_count": 35,
      "outputs": [
        {
          "output_type": "stream",
          "name": "stdout",
          "text": [
            "tensor of shape (3, 3) with values ranging from 1 to 9: \n",
            " tensor([[1, 2, 3],\n",
            "        [4, 5, 6],\n",
            "        [7, 8, 9]])\n"
          ]
        }
      ]
    },
    {
      "cell_type": "code",
      "execution_count": null,
      "metadata": {
        "id": "BHSj7_nerBoo"
      },
      "outputs": [],
      "source": [
        "# Compute the sum of all elements."
      ]
    },
    {
      "cell_type": "code",
      "source": [
        "sum = torch.sum(tensor_agg)\n",
        "print(\"Sum =\", sum.item())"
      ],
      "metadata": {
        "colab": {
          "base_uri": "https://localhost:8080/"
        },
        "id": "s5d83Nvy-1k7",
        "outputId": "e1e28e3c-e3e1-4d5a-af28-dd5227fe7e11"
      },
      "execution_count": 43,
      "outputs": [
        {
          "output_type": "stream",
          "name": "stdout",
          "text": [
            "Sum = 45\n"
          ]
        }
      ]
    },
    {
      "cell_type": "code",
      "execution_count": null,
      "metadata": {
        "id": "ZX8WO5-KrBoo"
      },
      "outputs": [],
      "source": [
        "# Compute the mean of all elements."
      ]
    },
    {
      "cell_type": "code",
      "source": [
        "mean = tensor_agg.float().mean()\n",
        "print(\"Mean :\", mean.item())"
      ],
      "metadata": {
        "colab": {
          "base_uri": "https://localhost:8080/"
        },
        "id": "vUwNi-Nz-2YR",
        "outputId": "4ee15aea-fa6d-4392-a9bd-39dafe8d45dd"
      },
      "execution_count": 41,
      "outputs": [
        {
          "output_type": "stream",
          "name": "stdout",
          "text": [
            "Mean : 5.0\n"
          ]
        }
      ]
    },
    {
      "cell_type": "code",
      "execution_count": null,
      "metadata": {
        "id": "PGDwBUMSrBoo"
      },
      "outputs": [],
      "source": [
        "# Find the maximum and minimum values."
      ]
    },
    {
      "cell_type": "code",
      "source": [
        "max = tensor_agg.max()\n",
        "print(\"max :\", max.item())"
      ],
      "metadata": {
        "colab": {
          "base_uri": "https://localhost:8080/"
        },
        "id": "hM8rJdoo-4Fn",
        "outputId": "5dd317de-975e-43d1-972b-89b1455e576d"
      },
      "execution_count": 42,
      "outputs": [
        {
          "output_type": "stream",
          "name": "stdout",
          "text": [
            "max : 9\n"
          ]
        }
      ]
    },
    {
      "cell_type": "code",
      "execution_count": null,
      "metadata": {
        "id": "gUtJIzzBrBoo"
      },
      "outputs": [],
      "source": [
        "# Compute the sum along the rows."
      ]
    },
    {
      "cell_type": "code",
      "source": [
        "#dim=0: sum down the rows (column-wise)\n",
        "\n",
        "#dim=1: sum across the columns (row-wise)\n",
        "\n",
        "sum_rows = torch.sum(tensor_agg,dim=1)\n",
        "print(sum_rows)"
      ],
      "metadata": {
        "colab": {
          "base_uri": "https://localhost:8080/"
        },
        "id": "DRsL-n9C-5Cy",
        "outputId": "97cbdef2-80a1-4df9-a80c-eee05430ddfa"
      },
      "execution_count": 44,
      "outputs": [
        {
          "output_type": "stream",
          "name": "stdout",
          "text": [
            "tensor([ 6, 15, 24])\n"
          ]
        }
      ]
    },
    {
      "cell_type": "code",
      "execution_count": null,
      "metadata": {
        "id": "3RgRMg1grBoo"
      },
      "outputs": [],
      "source": [
        "# Compute the mean along the columns."
      ]
    },
    {
      "cell_type": "code",
      "source": [
        "print(tensor_agg)\n",
        "mean_col = tensor_agg.float().mean(dim=0)\n",
        "print(\"Mean along columns:\\n\", mean_col)\n"
      ],
      "metadata": {
        "colab": {
          "base_uri": "https://localhost:8080/"
        },
        "id": "yNonxo97-5k0",
        "outputId": "69b8bd23-e405-478e-ff1b-88f13eb8b841"
      },
      "execution_count": 52,
      "outputs": [
        {
          "output_type": "stream",
          "name": "stdout",
          "text": [
            "tensor([[1, 2, 3],\n",
            "        [4, 5, 6],\n",
            "        [7, 8, 9]])\n",
            "Mean along columns:\n",
            " tensor([4., 5., 6.])\n"
          ]
        }
      ]
    },
    {
      "cell_type": "markdown",
      "metadata": {
        "id": "-QDpoOlIrBoo"
      },
      "source": [
        "# 5. Tensor Reshaping Operations"
      ]
    },
    {
      "cell_type": "code",
      "execution_count": null,
      "metadata": {
        "id": "y5LYkfQRrBoo"
      },
      "outputs": [],
      "source": [
        "# Create a tensor tensor of shape (2, 3, 4) with random values."
      ]
    },
    {
      "cell_type": "code",
      "source": [
        "tensor_x = torch.randint(1000,(2,3,4))\n",
        "print(tensor_x)"
      ],
      "metadata": {
        "colab": {
          "base_uri": "https://localhost:8080/"
        },
        "id": "FSrVgTERC0Ew",
        "outputId": "ffda48c0-fee1-4e45-df5a-def115cf6a13"
      },
      "execution_count": 61,
      "outputs": [
        {
          "output_type": "stream",
          "name": "stdout",
          "text": [
            "tensor([[[547, 958, 476, 234],\n",
            "         [698, 629, 522,  29],\n",
            "         [682, 315, 406, 376]],\n",
            "\n",
            "        [[679, 101, 870, 919],\n",
            "         [407, 900, 238, 651],\n",
            "         [895, 613, 925, 777]]])\n"
          ]
        }
      ]
    },
    {
      "cell_type": "code",
      "execution_count": null,
      "metadata": {
        "id": "nKxrPmPdrBoo"
      },
      "outputs": [],
      "source": [
        "# Reshape the tensor to (4, 6)."
      ]
    },
    {
      "cell_type": "code",
      "source": [
        "tensor_reshape = tensor_x.reshape(4,6)\n",
        "print(tensor_reshape)"
      ],
      "metadata": {
        "colab": {
          "base_uri": "https://localhost:8080/"
        },
        "id": "UeFWVID3C0i9",
        "outputId": "efed2346-1c8e-43b3-be3f-c48a8eb703da"
      },
      "execution_count": 62,
      "outputs": [
        {
          "output_type": "stream",
          "name": "stdout",
          "text": [
            "tensor([[547, 958, 476, 234, 698, 629],\n",
            "        [522,  29, 682, 315, 406, 376],\n",
            "        [679, 101, 870, 919, 407, 900],\n",
            "        [238, 651, 895, 613, 925, 777]])\n"
          ]
        }
      ]
    },
    {
      "cell_type": "code",
      "execution_count": null,
      "metadata": {
        "id": "MIlyD46VrBoo"
      },
      "outputs": [],
      "source": [
        "# Transpose the tensor (swap the first and second dimensions)."
      ]
    },
    {
      "cell_type": "code",
      "source": [
        "tensor_transpose = tensor_reshape.T\n",
        "print(tensor_transpose)\n",
        "\n",
        "tensor_transpose2 = tensor_reshape.transpose(0, 1)\n",
        "print(tensor_transpose2)"
      ],
      "metadata": {
        "colab": {
          "base_uri": "https://localhost:8080/"
        },
        "id": "utIz29uiC08r",
        "outputId": "d3d42df6-2cfb-4e80-9f6d-9a557bf4c892"
      },
      "execution_count": 66,
      "outputs": [
        {
          "output_type": "stream",
          "name": "stdout",
          "text": [
            "tensor([[547, 522, 679, 238],\n",
            "        [958,  29, 101, 651],\n",
            "        [476, 682, 870, 895],\n",
            "        [234, 315, 919, 613],\n",
            "        [698, 406, 407, 925],\n",
            "        [629, 376, 900, 777]])\n",
            "tensor([[547, 522, 679, 238],\n",
            "        [958,  29, 101, 651],\n",
            "        [476, 682, 870, 895],\n",
            "        [234, 315, 919, 613],\n",
            "        [698, 406, 407, 925],\n",
            "        [629, 376, 900, 777]])\n"
          ]
        }
      ]
    },
    {
      "cell_type": "code",
      "execution_count": null,
      "metadata": {
        "id": "PCduQWV9rBoo"
      },
      "outputs": [],
      "source": [
        "# Flatten the tensor to a 1D tensor."
      ]
    },
    {
      "cell_type": "code",
      "source": [
        "tensor_1d = tensor_transpose.reshape(24)\n",
        "print(tensor_1d)\n",
        "\n",
        "flattened = tensor_transpose.flatten()\n",
        "print(flattened)\n"
      ],
      "metadata": {
        "colab": {
          "base_uri": "https://localhost:8080/"
        },
        "id": "S-8cla1XC1uR",
        "outputId": "ccc6cf63-acef-4b99-bb57-564bf28dba71"
      },
      "execution_count": 68,
      "outputs": [
        {
          "output_type": "stream",
          "name": "stdout",
          "text": [
            "tensor([547, 522, 679, 238, 958,  29, 101, 651, 476, 682, 870, 895, 234, 315,\n",
            "        919, 613, 698, 406, 407, 925, 629, 376, 900, 777])\n",
            "tensor([547, 522, 679, 238, 958,  29, 101, 651, 476, 682, 870, 895, 234, 315,\n",
            "        919, 613, 698, 406, 407, 925, 629, 376, 900, 777])\n"
          ]
        }
      ]
    },
    {
      "cell_type": "markdown",
      "metadata": {
        "id": "twQA4pR6rBoo"
      },
      "source": [
        "# 6. Tensor Broadcasting"
      ]
    },
    {
      "cell_type": "code",
      "execution_count": null,
      "metadata": {
        "id": "s76Yb_-XrBoo"
      },
      "outputs": [],
      "source": [
        "# Create a tensor tensor_a of shape (2, 3) with values ranging from 1 to 6."
      ]
    },
    {
      "cell_type": "code",
      "source": [
        "tensor_a = torch.arange(1,7).reshape(2,3)\n",
        "print(tensor_a)"
      ],
      "metadata": {
        "colab": {
          "base_uri": "https://localhost:8080/"
        },
        "id": "4w6f9-aOHbb3",
        "outputId": "1380f75e-8e65-4256-de96-2cf836355f8d"
      },
      "execution_count": 70,
      "outputs": [
        {
          "output_type": "stream",
          "name": "stdout",
          "text": [
            "tensor([[1, 2, 3],\n",
            "        [4, 5, 6]])\n"
          ]
        }
      ]
    },
    {
      "cell_type": "code",
      "execution_count": null,
      "metadata": {
        "id": "WzuaeV8YrBoo"
      },
      "outputs": [],
      "source": [
        "# Create a tensor tensor_b of shape (1, 3) with values [1, 2, 3]."
      ]
    },
    {
      "cell_type": "code",
      "source": [
        "tensor_b = torch.tensor([[1,2,3]])\n",
        "print(tensor_b)\n",
        "print(tensor_b.shape)"
      ],
      "metadata": {
        "colab": {
          "base_uri": "https://localhost:8080/"
        },
        "id": "qfbfudu3HsNj",
        "outputId": "2800b0ed-338e-4990-eb09-b984bcfb50e9"
      },
      "execution_count": 75,
      "outputs": [
        {
          "output_type": "stream",
          "name": "stdout",
          "text": [
            "tensor([[1, 2, 3]])\n",
            "torch.Size([1, 3])\n"
          ]
        }
      ]
    },
    {
      "cell_type": "code",
      "execution_count": null,
      "metadata": {
        "id": "9cIlfhoorBoo"
      },
      "outputs": [],
      "source": [
        "# Perform broadcasting addition."
      ]
    },
    {
      "cell_type": "code",
      "source": [
        "# tensor_b gets broadcast to shape (2, 3)\n",
        "# Broadcasting addition\n",
        "# Last dimension: 3 and 3 → equal\n",
        "# Second-to-last dimension: 2 and 1 →  one dimension is 1 → broadcastable\n",
        "\n",
        "tensor_add = tensor_a + tensor_b\n",
        "print(\"tensor_a + tensor_b = \",tensor_add)\n"
      ],
      "metadata": {
        "colab": {
          "base_uri": "https://localhost:8080/"
        },
        "id": "Ud0MOevMJ-wD",
        "outputId": "1f29a79d-fe8c-47de-be2a-d4af05838fe2"
      },
      "execution_count": 76,
      "outputs": [
        {
          "output_type": "stream",
          "name": "stdout",
          "text": [
            "tensor_a + tensor_b =  tensor([[2, 4, 6],\n",
            "        [5, 7, 9]])\n"
          ]
        }
      ]
    },
    {
      "cell_type": "code",
      "execution_count": null,
      "metadata": {
        "id": "YCTkSSJfrBoo"
      },
      "outputs": [],
      "source": [
        "# Create a tensor tensor_c of shape (3, 1) with values [1, 2, 3]."
      ]
    },
    {
      "cell_type": "code",
      "source": [
        "tensor_c = torch.tensor([1,2,3]).reshape(3,1)\n",
        "print(tensor_c)"
      ],
      "metadata": {
        "colab": {
          "base_uri": "https://localhost:8080/"
        },
        "id": "OrL7zM5kLBez",
        "outputId": "0ede72d1-5e1d-49fe-bd5c-09361d94b566"
      },
      "execution_count": 77,
      "outputs": [
        {
          "output_type": "stream",
          "name": "stdout",
          "text": [
            "tensor([[1],\n",
            "        [2],\n",
            "        [3]])\n"
          ]
        }
      ]
    },
    {
      "cell_type": "code",
      "execution_count": null,
      "metadata": {
        "id": "2op2i2TarBoo"
      },
      "outputs": [],
      "source": [
        "# Perform broadcasting multiplication."
      ]
    },
    {
      "cell_type": "code",
      "source": [
        "#tensor_c: shape (3, 1) → broadcast to (3, 3)\n",
        "#tensor_b: shape (1, 3) → broadcast to (3, 3)\n",
        "\n",
        "result = tensor_b * tensor_c\n",
        "print(\"Result:\\n\", result)"
      ],
      "metadata": {
        "colab": {
          "base_uri": "https://localhost:8080/"
        },
        "id": "th-F8yLeMDaX",
        "outputId": "6f3ddfdd-473e-4436-c21d-d2026b4b70f9"
      },
      "execution_count": 81,
      "outputs": [
        {
          "output_type": "stream",
          "name": "stdout",
          "text": [
            "Result:\n",
            " tensor([[1, 2, 3],\n",
            "        [2, 4, 6],\n",
            "        [3, 6, 9]])\n"
          ]
        }
      ]
    },
    {
      "cell_type": "markdown",
      "metadata": {
        "id": "XbcgGAl1rBoo"
      },
      "source": [
        "# 7. Tensor Device Management"
      ]
    },
    {
      "cell_type": "code",
      "execution_count": null,
      "metadata": {
        "id": "uscrQru3rBoo"
      },
      "outputs": [],
      "source": [
        "# Create a tensor of shape (3, 3) with random values and move it to GPU (if available)."
      ]
    },
    {
      "cell_type": "code",
      "source": [
        "# Check if GPU is available\n",
        "device = torch.device(\"cuda\" if torch.cuda.is_available() else \"cpu\")\n",
        "print(device)"
      ],
      "metadata": {
        "colab": {
          "base_uri": "https://localhost:8080/"
        },
        "id": "BPr15SKGM-GU",
        "outputId": "3c64cb6a-224a-4e8a-a6d6-802a9e6ff412"
      },
      "execution_count": 12,
      "outputs": [
        {
          "output_type": "stream",
          "name": "stdout",
          "text": [
            "cuda\n"
          ]
        }
      ]
    },
    {
      "cell_type": "code",
      "source": [
        "# Create tensor and move to the appropriate device\n",
        "tensor_gpu = torch.randint(100,(3,3)).to(\"cuda\")\n",
        "print(tensor_gpu)"
      ],
      "metadata": {
        "id": "8ovAaAUTPge_",
        "outputId": "fb1a865d-9114-42a3-ad0a-656fd091c496",
        "colab": {
          "base_uri": "https://localhost:8080/"
        }
      },
      "execution_count": 13,
      "outputs": [
        {
          "output_type": "stream",
          "name": "stdout",
          "text": [
            "tensor([[84, 26, 53],\n",
            "        [ 3, 63, 75],\n",
            "        [81, 71, 31]], device='cuda:0')\n"
          ]
        }
      ]
    },
    {
      "cell_type": "code",
      "execution_count": null,
      "metadata": {
        "id": "HP9Hh2TdrBoo"
      },
      "outputs": [],
      "source": [
        "# Verify if the tensor is on GPU.\n",
        "# Move the tensor back to CPU."
      ]
    },
    {
      "cell_type": "code",
      "source": [
        "print(\"Tensor on device:\", tensor_gpu.device)"
      ],
      "metadata": {
        "id": "ZOG8bUxbOQXm",
        "outputId": "a15a20c8-bda7-404b-ae46-da53288aee4d",
        "colab": {
          "base_uri": "https://localhost:8080/"
        }
      },
      "execution_count": 5,
      "outputs": [
        {
          "output_type": "stream",
          "name": "stdout",
          "text": [
            "Tensor on device: cuda:0\n"
          ]
        }
      ]
    },
    {
      "cell_type": "code",
      "source": [
        "tensor_cpu = tensor_gpu.to(\"cpu\")\n",
        "print(\"Tensor on device:\", tensor_cpu.device)\n",
        "print(tensor_cpu)\n"
      ],
      "metadata": {
        "id": "BbGHPGTiOdAD",
        "outputId": "b1c10699-0006-4989-f6c3-736d5e7f5b71",
        "colab": {
          "base_uri": "https://localhost:8080/"
        }
      },
      "execution_count": 9,
      "outputs": [
        {
          "output_type": "stream",
          "name": "stdout",
          "text": [
            "Tensor on device: cpu\n",
            "tensor([[51, 21, 19],\n",
            "        [19, 45, 83],\n",
            "        [49, 67, 66]])\n"
          ]
        }
      ]
    },
    {
      "cell_type": "markdown",
      "metadata": {
        "id": "BCUKfYRGrBoo"
      },
      "source": [
        "# 8. Tensor Cloning and Detaching"
      ]
    },
    {
      "cell_type": "code",
      "execution_count": null,
      "metadata": {
        "id": "uzXHqTF-rBop"
      },
      "outputs": [],
      "source": [
        "# Create a tensor tensor of shape (3,) with values [1, 2, 3] and set requires_grad=True."
      ]
    },
    {
      "cell_type": "code",
      "source": [
        "tensor_x = torch.tensor([1, 2, 3], dtype=torch.float32, requires_grad=True)\n",
        "print(tensor_x)"
      ],
      "metadata": {
        "id": "mCVoh5OyPtZz",
        "outputId": "a3f7382e-ee56-4ad9-f75d-bc0782301440",
        "colab": {
          "base_uri": "https://localhost:8080/"
        }
      },
      "execution_count": 16,
      "outputs": [
        {
          "output_type": "stream",
          "name": "stdout",
          "text": [
            "tensor([1., 2., 3.], requires_grad=True)\n"
          ]
        }
      ]
    },
    {
      "cell_type": "code",
      "execution_count": null,
      "metadata": {
        "id": "kkF-NrH8rBop"
      },
      "outputs": [],
      "source": [
        "# Clone the tensor and print the cloned tensor."
      ]
    },
    {
      "cell_type": "code",
      "source": [
        "cloned_tensor = tensor_x.clone()\n",
        "print(\"Cloned Tensor:\", cloned_tensor)"
      ],
      "metadata": {
        "id": "Tis0s-E_QIBL",
        "outputId": "e1251c81-f69a-4c1e-dfb2-78881cab9637",
        "colab": {
          "base_uri": "https://localhost:8080/"
        }
      },
      "execution_count": 17,
      "outputs": [
        {
          "output_type": "stream",
          "name": "stdout",
          "text": [
            "Cloned Tensor: tensor([1., 2., 3.], grad_fn=<CloneBackward0>)\n"
          ]
        }
      ]
    },
    {
      "cell_type": "code",
      "execution_count": null,
      "metadata": {
        "id": "45yyyo9JrBop"
      },
      "outputs": [],
      "source": [
        "# Detach the tensor from the computation graph and print the detached tensor."
      ]
    },
    {
      "cell_type": "code",
      "source": [
        "detached_tensor = tensor_x.detach()\n",
        "print(\"Detached Tensor:\", detached_tensor)"
      ],
      "metadata": {
        "id": "4B7x2mS1QRgW",
        "outputId": "07cd63e8-1180-494b-9f2a-e70c4c25cce7",
        "colab": {
          "base_uri": "https://localhost:8080/"
        }
      },
      "execution_count": 19,
      "outputs": [
        {
          "output_type": "stream",
          "name": "stdout",
          "text": [
            "Detached Tensor: tensor([1., 2., 3.])\n"
          ]
        }
      ]
    },
    {
      "cell_type": "markdown",
      "metadata": {
        "id": "LC_MsQCbrBop"
      },
      "source": [
        "# 9. High Dimensional Tensors"
      ]
    },
    {
      "cell_type": "code",
      "execution_count": null,
      "metadata": {
        "id": "79KVDZZYrBop"
      },
      "outputs": [],
      "source": [
        "# Create a 4D tensor tensor of shape (2, 3, 4, 5) with random values."
      ]
    },
    {
      "cell_type": "code",
      "source": [
        "tensor_4d = torch.randint(1000,(2, 3, 4, 5))\n",
        "print(tensor_4d)"
      ],
      "metadata": {
        "colab": {
          "base_uri": "https://localhost:8080/"
        },
        "id": "3jMBYHMpQn2T",
        "outputId": "a3aae4ff-0bc5-462c-f3ca-e46896035d2e"
      },
      "execution_count": 20,
      "outputs": [
        {
          "output_type": "stream",
          "name": "stdout",
          "text": [
            "tensor([[[[518, 384, 710, 368, 304],\n",
            "          [ 94, 840, 278, 454, 566],\n",
            "          [669, 408, 680, 194, 939],\n",
            "          [772,  77, 452, 208, 561]],\n",
            "\n",
            "         [[982, 832, 743, 930, 586],\n",
            "          [429, 209, 876, 608, 723],\n",
            "          [ 67, 358,  42, 590, 422],\n",
            "          [771,  66, 545, 996,  40]],\n",
            "\n",
            "         [[ 91, 190, 871, 214, 812],\n",
            "          [573,  11, 597, 261, 951],\n",
            "          [894, 928, 132,  85, 214],\n",
            "          [221, 166, 965, 904,  14]]],\n",
            "\n",
            "\n",
            "        [[[942, 882, 827, 674, 902],\n",
            "          [ 72, 255, 771, 550, 433],\n",
            "          [873, 827, 583, 100, 908],\n",
            "          [709, 958, 758, 428, 222]],\n",
            "\n",
            "         [[  3, 441, 377, 690, 994],\n",
            "          [149, 974, 672, 658, 329],\n",
            "          [979, 905, 384, 692, 297],\n",
            "          [675, 492, 208, 535, 526]],\n",
            "\n",
            "         [[727,  76,  62, 485, 263],\n",
            "          [ 52, 589,   8, 659, 638],\n",
            "          [259, 431,  61,  94, 318],\n",
            "          [856, 190, 742, 367,  39]]]])\n"
          ]
        }
      ]
    },
    {
      "cell_type": "code",
      "execution_count": null,
      "metadata": {
        "id": "l9ysjEDZrBop"
      },
      "outputs": [],
      "source": [
        "# Print the shape of the tensor."
      ]
    },
    {
      "cell_type": "code",
      "source": [
        "print(tensor_4d.shape)"
      ],
      "metadata": {
        "colab": {
          "base_uri": "https://localhost:8080/"
        },
        "id": "AjjnrBPKQ7Az",
        "outputId": "1d8eb304-c082-4d25-98b4-0015a4d1a1c1"
      },
      "execution_count": 23,
      "outputs": [
        {
          "output_type": "stream",
          "name": "stdout",
          "text": [
            "torch.Size([2, 3, 4, 5])\n"
          ]
        }
      ]
    },
    {
      "cell_type": "code",
      "execution_count": null,
      "metadata": {
        "id": "SUTKvVQHrBop"
      },
      "outputs": [],
      "source": [
        "# Access the element at position (1, 2, 3, 4)."
      ]
    },
    {
      "cell_type": "code",
      "source": [
        "print(\"Element at position (1, 2, 3, 4): \", tensor_4d[1,2,3,4])"
      ],
      "metadata": {
        "id": "inkXMLdCRBbj",
        "outputId": "74c7693f-1535-4448-ca7e-272e9631ed1b",
        "colab": {
          "base_uri": "https://localhost:8080/"
        }
      },
      "execution_count": 26,
      "outputs": [
        {
          "output_type": "stream",
          "name": "stdout",
          "text": [
            "Element at position (1, 2, 3, 4):  tensor(39)\n"
          ]
        }
      ]
    },
    {
      "cell_type": "code",
      "execution_count": null,
      "metadata": {
        "id": "aRzT8c1IrBop"
      },
      "outputs": [],
      "source": [
        "# Slice and print the first two elements along the first dimension."
      ]
    },
    {
      "cell_type": "code",
      "source": [
        "sliced = tensor_4d[:2]\n",
        "print(\"Sliced Tensor (first two elements along dim 0):\\n\", sliced)"
      ],
      "metadata": {
        "id": "X7qYrLeNSOOX",
        "outputId": "35790360-7fbb-4f23-ed29-c274cbb65c83",
        "colab": {
          "base_uri": "https://localhost:8080/"
        }
      },
      "execution_count": 29,
      "outputs": [
        {
          "output_type": "stream",
          "name": "stdout",
          "text": [
            "Sliced Tensor (first two elements along dim 0):\n",
            " tensor([[[[518, 384, 710, 368, 304],\n",
            "          [ 94, 840, 278, 454, 566],\n",
            "          [669, 408, 680, 194, 939],\n",
            "          [772,  77, 452, 208, 561]],\n",
            "\n",
            "         [[982, 832, 743, 930, 586],\n",
            "          [429, 209, 876, 608, 723],\n",
            "          [ 67, 358,  42, 590, 422],\n",
            "          [771,  66, 545, 996,  40]],\n",
            "\n",
            "         [[ 91, 190, 871, 214, 812],\n",
            "          [573,  11, 597, 261, 951],\n",
            "          [894, 928, 132,  85, 214],\n",
            "          [221, 166, 965, 904,  14]]],\n",
            "\n",
            "\n",
            "        [[[942, 882, 827, 674, 902],\n",
            "          [ 72, 255, 771, 550, 433],\n",
            "          [873, 827, 583, 100, 908],\n",
            "          [709, 958, 758, 428, 222]],\n",
            "\n",
            "         [[  3, 441, 377, 690, 994],\n",
            "          [149, 974, 672, 658, 329],\n",
            "          [979, 905, 384, 692, 297],\n",
            "          [675, 492, 208, 535, 526]],\n",
            "\n",
            "         [[727,  76,  62, 485, 263],\n",
            "          [ 52, 589,   8, 659, 638],\n",
            "          [259, 431,  61,  94, 318],\n",
            "          [856, 190, 742, 367,  39]]]])\n"
          ]
        }
      ]
    },
    {
      "cell_type": "markdown",
      "source": [
        "**sliced result is identical to the original tensor**"
      ],
      "metadata": {
        "id": "TaHxqlApTVTl"
      }
    },
    {
      "cell_type": "code",
      "execution_count": null,
      "metadata": {
        "id": "aRu9L2uYrBop"
      },
      "outputs": [],
      "source": [
        "# Sum all elements in the tensor."
      ]
    },
    {
      "cell_type": "code",
      "source": [
        "total_sum = tensor_4d.sum()\n",
        "print(\"Sum of all elements:\", total_sum.item())\n"
      ],
      "metadata": {
        "id": "Yn3v2lCKTkz6",
        "outputId": "9ff5b59c-c8c1-4c7e-9c8d-dd51ec8f60aa",
        "colab": {
          "base_uri": "https://localhost:8080/"
        }
      },
      "execution_count": 30,
      "outputs": [
        {
          "output_type": "stream",
          "name": "stdout",
          "text": [
            "Sum of all elements: 59955\n"
          ]
        }
      ]
    },
    {
      "cell_type": "code",
      "execution_count": null,
      "metadata": {
        "id": "T1RRaaqtrBop"
      },
      "outputs": [],
      "source": [
        "# Compute the mean along the third dimension."
      ]
    },
    {
      "cell_type": "code",
      "source": [
        "mean_dim3 = tensor_4d.float().mean(dim=2)\n",
        "print(\"Mean along third dimension:\\n\", mean_dim3)\n"
      ],
      "metadata": {
        "id": "2I_puwIFTlO-",
        "outputId": "a6ea9112-67c6-4235-c965-d5e7e9c2d455",
        "colab": {
          "base_uri": "https://localhost:8080/"
        }
      },
      "execution_count": 31,
      "outputs": [
        {
          "output_type": "stream",
          "name": "stdout",
          "text": [
            "Mean along third dimension:\n",
            " tensor([[[513.2500, 427.2500, 530.0000, 306.0000, 592.5000],\n",
            "         [562.2500, 366.2500, 551.5000, 781.0000, 442.7500],\n",
            "         [444.7500, 323.7500, 641.2500, 366.0000, 497.7500]],\n",
            "\n",
            "        [[649.0000, 730.5000, 734.7500, 438.0000, 616.2500],\n",
            "         [451.5000, 703.0000, 410.2500, 643.7500, 536.5000],\n",
            "         [473.5000, 321.5000, 218.2500, 401.2500, 314.5000]]])\n"
          ]
        }
      ]
    },
    {
      "cell_type": "markdown",
      "metadata": {
        "id": "A1WxD11urBop"
      },
      "source": [
        "# 10. Combining Tensor Operations"
      ]
    },
    {
      "cell_type": "code",
      "execution_count": null,
      "metadata": {
        "id": "qivNHWQbrBop"
      },
      "outputs": [],
      "source": [
        "# Create two tensors tensor_a and tensor_b of shape (2, 3, 4) with random values."
      ]
    },
    {
      "cell_type": "code",
      "source": [
        "tensor_a = torch.randint(100, (2, 3, 4))\n",
        "tensor_b = torch.randint(100,(2, 3, 4))\n",
        "\n",
        "print(\"Tensor A:\\n\", tensor_a)\n",
        "print(\"Tensor B:\\n\", tensor_b)\n"
      ],
      "metadata": {
        "id": "Pv3_FsWyT1Gx",
        "outputId": "14a4eb08-dcf8-4923-953c-5292bf57e711",
        "colab": {
          "base_uri": "https://localhost:8080/"
        }
      },
      "execution_count": 35,
      "outputs": [
        {
          "output_type": "stream",
          "name": "stdout",
          "text": [
            "Tensor A:\n",
            " tensor([[[80, 67, 43, 77],\n",
            "         [94, 24, 20, 43],\n",
            "         [29, 31, 20, 42]],\n",
            "\n",
            "        [[88,  1, 84, 87],\n",
            "         [87, 26,  6, 98],\n",
            "         [15, 83, 29, 87]]])\n",
            "Tensor B:\n",
            " tensor([[[79, 41, 30, 99],\n",
            "         [75, 51, 28, 61],\n",
            "         [ 9, 81,  4, 24]],\n",
            "\n",
            "        [[40, 84, 10, 82],\n",
            "         [97, 80,  1, 99],\n",
            "         [ 6, 93, 78, 44]]])\n"
          ]
        }
      ]
    },
    {
      "cell_type": "code",
      "execution_count": null,
      "metadata": {
        "id": "yD_Irn66rBop"
      },
      "outputs": [],
      "source": [
        "# Add the two tensors."
      ]
    },
    {
      "cell_type": "code",
      "source": [
        "tensor_add = torch.add(tensor_a, tensor_b)\n",
        "print(\"Addition of tensor_a and tensor_b: \",tensor_add)"
      ],
      "metadata": {
        "id": "aCIEyBgpT1w8",
        "outputId": "c17d42e6-d107-4b60-ed19-60506f4922fb",
        "colab": {
          "base_uri": "https://localhost:8080/"
        }
      },
      "execution_count": 37,
      "outputs": [
        {
          "output_type": "stream",
          "name": "stdout",
          "text": [
            "Addition of tensor_a and tensor_b:  tensor([[[159, 108,  73, 176],\n",
            "         [169,  75,  48, 104],\n",
            "         [ 38, 112,  24,  66]],\n",
            "\n",
            "        [[128,  85,  94, 169],\n",
            "         [184, 106,   7, 197],\n",
            "         [ 21, 176, 107, 131]]])\n"
          ]
        }
      ]
    },
    {
      "cell_type": "code",
      "execution_count": null,
      "metadata": {
        "id": "IbAxo4WDrBop"
      },
      "outputs": [],
      "source": [
        "# Multiply the resulting tensor by 2."
      ]
    },
    {
      "cell_type": "code",
      "source": [
        "tensor_mul = torch.mul(tensor_a, tensor_b)\n",
        "print(\"Multiplication of tensor_a and tensor_b: \",tensor_mul)"
      ],
      "metadata": {
        "id": "gJffUcnsT2aD",
        "outputId": "c40fcba9-2fdf-4091-b9d8-ab7530eb5842",
        "colab": {
          "base_uri": "https://localhost:8080/"
        }
      },
      "execution_count": 38,
      "outputs": [
        {
          "output_type": "stream",
          "name": "stdout",
          "text": [
            "Multiplication of tensor_a and tensor_b:  tensor([[[6320, 2747, 1290, 7623],\n",
            "         [7050, 1224,  560, 2623],\n",
            "         [ 261, 2511,   80, 1008]],\n",
            "\n",
            "        [[3520,   84,  840, 7134],\n",
            "         [8439, 2080,    6, 9702],\n",
            "         [  90, 7719, 2262, 3828]]])\n"
          ]
        }
      ]
    },
    {
      "cell_type": "code",
      "execution_count": null,
      "metadata": {
        "id": "2v03XPplrBop"
      },
      "outputs": [],
      "source": [
        "# Reshape the tensor to (4, 6)."
      ]
    },
    {
      "cell_type": "code",
      "source": [
        "print(\"tensor_mul shape: \", tensor_mul.shape)\n",
        "tensor_reshaped = tensor_mul.reshape(4,6)\n",
        "print(\"tensor_reshaped shape: \", tensor_reshaped.shape)\n"
      ],
      "metadata": {
        "id": "K9fRBOhRT24b",
        "outputId": "2cb96a01-bc29-41da-e6e0-57103ef1d55a",
        "colab": {
          "base_uri": "https://localhost:8080/"
        }
      },
      "execution_count": 40,
      "outputs": [
        {
          "output_type": "stream",
          "name": "stdout",
          "text": [
            "tensor_mul shape:  torch.Size([2, 3, 4])\n",
            "tensor_reshaped shape:  torch.Size([4, 6])\n"
          ]
        }
      ]
    },
    {
      "cell_type": "code",
      "execution_count": null,
      "metadata": {
        "id": "WB31v0FDrBop"
      },
      "outputs": [],
      "source": [
        "# Compute the sum along the columns."
      ]
    },
    {
      "cell_type": "code",
      "source": [
        "# Sum along columns (i.e., across rows → dim=0)\n",
        "column_sum = tensor_reshaped.sum(dim=0)\n",
        "\n",
        "print(\"Sum along columns: \", column_sum)"
      ],
      "metadata": {
        "id": "xWM5KpRqT3me",
        "outputId": "ee2bead7-bfe1-4c08-ec2c-5c66423c43a4",
        "colab": {
          "base_uri": "https://localhost:8080/"
        }
      },
      "execution_count": 42,
      "outputs": [
        {
          "output_type": "stream",
          "name": "stdout",
          "text": [
            "Sum along columns:  tensor([10406, 15156,  2481, 24987, 17831,  8140])\n"
          ]
        }
      ]
    },
    {
      "cell_type": "markdown",
      "metadata": {
        "id": "BPJPyj-XrBop"
      },
      "source": [
        "-------------------------------------------- END ----------------------------------------------"
      ]
    }
  ],
  "metadata": {
    "kernelspec": {
      "display_name": "Python 3",
      "name": "python3"
    },
    "language_info": {
      "codemirror_mode": {
        "name": "ipython",
        "version": 3
      },
      "file_extension": ".py",
      "mimetype": "text/x-python",
      "name": "python",
      "nbconvert_exporter": "python",
      "pygments_lexer": "ipython3",
      "version": "3.10.14"
    },
    "colab": {
      "provenance": [],
      "gpuType": "T4"
    },
    "accelerator": "GPU"
  },
  "nbformat": 4,
  "nbformat_minor": 0
}